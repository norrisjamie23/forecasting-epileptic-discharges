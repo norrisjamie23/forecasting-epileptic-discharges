{
 "cells": [
  {
   "cell_type": "markdown",
   "id": "5d5697a4",
   "metadata": {},
   "source": [
    "This notebook detects IEDs using different parameters."
   ]
  },
  {
   "cell_type": "code",
   "execution_count": 1,
   "id": "581470ab",
   "metadata": {},
   "outputs": [],
   "source": [
    "import mne\n",
    "import scipy.io\n",
    "import numpy as np\n",
    "import matplotlib.pyplot as plt\n",
    "import matplotlib \n",
    "import math\n",
    "import pyedflib\n",
    "import random\n",
    "import os\n",
    "from bisect import bisect_left\n",
    "import h5py\n",
    "\n",
    "matplotlib.rcParams['figure.figsize'] = (10, 2)\n",
    "mne.set_log_level('WARNING')\n",
    "\n",
    "%run DetectSpike_SEEG.py"
   ]
  },
  {
   "cell_type": "markdown",
   "id": "3e328270",
   "metadata": {},
   "source": [
    "Open the file"
   ]
  },
  {
   "cell_type": "code",
   "execution_count": 2,
   "id": "1882f407",
   "metadata": {},
   "outputs": [],
   "source": [
    "# file_name = 'Data/TrialPatientBeSa/X~ X_74addeec-ea9c-4b25-8280-cab2db067651.EDF'\n",
    "file_name = 'Data/TrialPatientArRa/X~ X_2fc7b4bb-d0f1-45b1-b60d-0ec24a942259.EDF'\n",
    "\n",
    "f = pyedflib.EdfReader(file_name)"
   ]
  },
  {
   "cell_type": "code",
   "execution_count": 198,
   "id": "c2c4939b",
   "metadata": {},
   "outputs": [],
   "source": [
    "file_name = 'Data/IED_P001.mat'\n",
    "\n",
    "with h5py.File(file_name, 'r') as f:\n",
    "    data = np.array(f['d'])\n",
    "    freq = np.array(f['fs'])\n",
    "    gs_chan = np.array(f['REV_GS']['chan'])\n",
    "    gs_con = np.array(f['REV_GS']['con'])\n",
    "    gs_dur = np.array(f['REV_GS']['dur'])\n",
    "    gs_pos = np.array(f['REV_GS']['pos'])"
   ]
  },
  {
   "cell_type": "code",
   "execution_count": 203,
   "id": "d1f4f22a",
   "metadata": {},
   "outputs": [
    {
     "data": {
      "text/plain": [
       "[<matplotlib.lines.Line2D at 0x7fe628fd6450>]"
      ]
     },
     "execution_count": 203,
     "metadata": {},
     "output_type": "execute_result"
    },
    {
     "data": {
      "image/png": "[encoded data removed]",
      "text/plain": [
       "<Figure size 720x144 with 1 Axes>"
      ]
     },
     "metadata": {
      "needs_background": "light"
     },
     "output_type": "display_data"
    }
   ],
   "source": [
    "plt.plot(data[0][:1000])"
   ]
  },
  {
   "cell_type": "code",
   "execution_count": 157,
   "id": "2dca17fe",
   "metadata": {},
   "outputs": [],
   "source": [
    "# Detect IEDs in current block across all chanels\n",
    "SpikeIndex, ChanId, _ = DetectSpikes(data, int(freq), DetThresholds=[7, 7, 300, 10, 10])"
   ]
  },
  {
   "cell_type": "code",
   "execution_count": null,
   "id": "d1cdb052",
   "metadata": {},
   "outputs": [],
   "source": [
    "tol = 0.05\n",
    "\n",
    "def getRange(mz1, tol):\n",
    "    return mz1 - tol, mz1 + tol\n",
    "\n",
    "def sensitivity(l1, l2):\n",
    "    d = { mz1:[] for mz1 in l1 }\n",
    "    for mz1 in l1:\n",
    "        lo,hi = getRange(mz1, tol)\n",
    "        i = bisect_left(l2,lo)\n",
    "        while i < len(l2) and l2[i]<= hi:\n",
    "            d[mz1].append(l2[i])\n",
    "            i+=1\n",
    "            \n",
    "    tp = 0\n",
    "    fp = 0\n",
    "    ieds = 0\n",
    "\n",
    "    for key in d:\n",
    "        ieds += 1\n",
    "        if len(d[key]) > 0:\n",
    "            tp += 1\n",
    "        else:\n",
    "            fp += 1\n",
    "\n",
    "    return tp, fp, ieds\n",
    "    \n",
    "\n",
    "file_names = [i for i in os.listdir(path) if \\\n",
    "              os.path.isfile(os.path.join(path,i)) and \\\n",
    "              i.startswith('IED') and i.endswith('mat')]\n",
    "\n",
    "sensitivities = []\n",
    "ppvs = []\n",
    "f1s = []\n",
    "max_f1 = 0\n",
    "\n",
    "for STDCoeff in range(2, 6, 1):\n",
    "    for SCALE in range(50, 100, 10):\n",
    "        for TroughSearch in range(30, 55, 5):\n",
    "            for file_name in file_names:\n",
    "                with h5py.File(os.path.join(path, file_name), 'r') as f:\n",
    "                    gs_chan = np.array(f['REV_GS']['chan'])\n",
    "                    gs_con = np.array(f['REV_GS']['con'])\n",
    "                    gs_dur = np.array(f['REV_GS']['dur'])\n",
    "                    gs_pos = np.array(f['REV_GS']['pos'])\n",
    "                    data = np.array(f['d'])\n",
    "                    freq = np.array(f['fs'])\n",
    "\n",
    "                # Detect IEDs in current block across all chanels\n",
    "                SpikeIndex, ChanId, _ = DetectSpikes(data, int(freq), STDCoeff=STDCoeff, SCALE=SCALE, TroughSearch=TroughSearch)\n",
    "\n",
    "                tp = 0\n",
    "                fp = 0\n",
    "                fn = 0\n",
    "\n",
    "                for i in range(data.shape[0]):\n",
    "\n",
    "                    l1 = np.sort(SpikeIndex[ChanId == i] / freq)[0]\n",
    "                    l2 = np.sort(gs_pos[np.logical_and(gs_chan == i+1, gs_con == 1)])\n",
    "\n",
    "                    chan_tp, chan_fp, _ = sensitivity(l1, l2)\n",
    "\n",
    "                    tp += chan_tp\n",
    "                    fp += chan_fp\n",
    "\n",
    "                    fn += sensitivity(l2, l1)[1]\n",
    "\n",
    "                if tp + fn > 0:\n",
    "                    sensitivities.append(tp/(tp+fn))\n",
    "                else:\n",
    "                    sensitivities.append(0)\n",
    "\n",
    "                if tp + fp > 0:\n",
    "                    ppvs.append(tp/(tp+fp))\n",
    "                else:\n",
    "                    ppvs.append(0)\n",
    "                    \n",
    "                if tp+0.5*(fp+fn) > 0:\n",
    "                    f1s.append(tp/(tp+0.5*(fp+fn)))\n",
    "                else:\n",
    "                    f1s.append(0)\n",
    "\n",
    "            f1 = np.array(f1s).mean()\n",
    "            if f1 > max_f1:\n",
    "                best_params = {\n",
    "                    \"STDCoeff\": STDCoeff,\n",
    "                    \"SCALE\": SCALE,\n",
    "                    \"TroughSearch\": TroughSearch\n",
    "                }\n",
    "            print(f1, np.array(sensitivities).mean(), np.array(ppvs).mean())\n",
    "            \n",
    "print(best_params)"
   ]
  },
  {
   "cell_type": "code",
   "execution_count": 99,
   "id": "fec7bc84",
   "metadata": {},
   "outputs": [
    {
     "name": "stdout",
     "output_type": "stream",
     "text": [
      "Specificity: 0.7222222222222222\n"
     ]
    }
   ],
   "source": [
    "l2  = np.sort(SpikeIndex[ChanId == 4] / freq)[0]\n",
    "l1  = np.sort(gs_pos[np.logical_and(gs_chan == 5, gs_con == 1)])\n",
    "\n",
    "from bisect import bisect_left\n",
    "d = { mz1:[] for mz1 in l1 }\n",
    "for mz1 in l1:\n",
    "    lo,hi = getRange(mz1, tol)\n",
    "    i = bisect_left(l2,lo)\n",
    "    while i < len(l2) and l2[i]<= hi:\n",
    "        d[mz1].append(l2[i])\n",
    "        i+=1\n",
    "        \n",
    "tp = 0\n",
    "total = 0\n",
    "\n",
    "for key in d:\n",
    "    if len(d[key]) > 0:\n",
    "        tp += 1\n",
    "        total += 1\n",
    "    else:\n",
    "        total += 1\n",
    "        \n",
    "print(\"Specificity:\", tp/total)"
   ]
  },
  {
   "cell_type": "code",
   "execution_count": 82,
   "id": "822d8b22",
   "metadata": {},
   "outputs": [
    {
     "data": {
      "text/plain": [
       "array([  9.852,  18.196,  28.432,  28.64 ,  38.244,  40.456,  80.08 ,\n",
       "        84.052,  87.332,  90.352,  93.076, 105.784, 114.496, 114.784,\n",
       "       118.74 , 126.136, 126.412, 126.68 , 134.656, 139.284, 142.592,\n",
       "       147.78 , 154.076, 154.192, 158.16 , 164.532, 164.952, 166.46 ,\n",
       "       166.72 , 172.476, 174.292, 179.764, 183.312, 188.04 , 188.344,\n",
       "       188.992, 191.604, 193.552, 193.692, 195.284, 197.452, 199.512,\n",
       "       202.152, 205.584, 205.972, 207.32 , 209.672, 210.56 , 216.224,\n",
       "       219.316, 225.436, 225.72 , 226.492, 228.944, 229.384, 229.936,\n",
       "       230.172, 230.544, 234.996, 235.356, 237.104, 242.52 , 242.84 ,\n",
       "       243.132, 244.06 , 244.932, 249.416, 251.256, 255.96 , 257.264,\n",
       "       259.116, 262.12 , 262.636, 264.616, 267.976, 268.732, 272.652,\n",
       "       275.572, 276.632, 277.816, 280.416, 281.536, 281.916, 282.436,\n",
       "       284.992, 287.232, 289.352, 290.712, 297.476, 298.064])"
      ]
     },
     "execution_count": 82,
     "metadata": {},
     "output_type": "execute_result"
    }
   ],
   "source": []
  },
  {
   "cell_type": "code",
   "execution_count": 18,
   "id": "b1e5f83a",
   "metadata": {},
   "outputs": [
    {
     "data": {
      "text/plain": [
       "300.0"
      ]
     },
     "execution_count": 18,
     "metadata": {},
     "output_type": "execute_result"
    }
   ],
   "source": [
    "75000/250"
   ]
  },
  {
   "cell_type": "markdown",
   "id": "c8c53a50",
   "metadata": {},
   "source": [
    "Define file specific parameters"
   ]
  },
  {
   "cell_type": "code",
   "execution_count": 3,
   "id": "e3e6ed1b",
   "metadata": {},
   "outputs": [],
   "source": [
    "freq = 2048\n",
    "ref_chan = 'EEG 07'"
   ]
  },
  {
   "cell_type": "markdown",
   "id": "386cd387",
   "metadata": {},
   "source": [
    "Get channels and number of channels"
   ]
  },
  {
   "cell_type": "code",
   "execution_count": 4,
   "id": "8874c07c",
   "metadata": {},
   "outputs": [],
   "source": [
    "num_chans = f.signals_in_file  # change to valid_channels.shape[0]\n",
    "signal_labels = f.getSignalLabels()"
   ]
  },
  {
   "cell_type": "markdown",
   "id": "4481b246",
   "metadata": {},
   "source": [
    "Get list of channels to use from channels.mat"
   ]
  },
  {
   "cell_type": "code",
   "execution_count": 5,
   "id": "fe8a38d6",
   "metadata": {},
   "outputs": [],
   "source": [
    "# Load file containing suitable channels and convert to list\n",
    "mat = scipy.io.loadmat('Data/TrialPatientArRa/channels.mat')\n",
    "valid_channels = [channel[0] for channel in mat['channels'][:, 0]]\n",
    "\n",
    "# valid_channels = signal_labels"
   ]
  },
  {
   "cell_type": "markdown",
   "id": "5d835ad2",
   "metadata": {},
   "source": [
    "Process a random minute of data with a range of params and select random 5s segments in random channels to show detections for each set of params."
   ]
  },
  {
   "cell_type": "code",
   "execution_count": 9,
   "id": "88df38c6",
   "metadata": {},
   "outputs": [
    {
     "name": "stdout",
     "output_type": "stream",
     "text": [
      "28 EEG I4 2\n"
     ]
    },
    {
     "data": {
      "image/png": "[encoded data removed]",
      "text/plain": [
       "<MNEBrowseFigure size 720x144 with 4 Axes>"
      ]
     },
     "metadata": {
      "needs_background": "light"
     },
     "output_type": "display_data"
    },
    {
     "data": {
      "image/png": "[encoded data removed]",
      "text/plain": [
       "<MNEBrowseFigure size 720x144 with 4 Axes>"
      ]
     },
     "metadata": {
      "needs_background": "light"
     },
     "output_type": "display_data"
    }
   ],
   "source": [
    "# Process 1 minute at a time\n",
    "mins_to_process = 1\n",
    "\n",
    "M = f.getNSamples()[0]# / (freq * 60)\n",
    "\n",
    "NumSecs = M / freq\n",
    "Blocks = math.floor(NumSecs / (mins_to_process * 60))\n",
    "\n",
    "def generate_detections(DetThresholds_list):\n",
    "    \n",
    "    # Randomly choose a minute to select data from\n",
    "    minute = random.randrange(Blocks)\n",
    "    minute = 28\n",
    "    \n",
    "    data_block = np.zeros((len(valid_channels), freq * 60 * mins_to_process))\n",
    "\n",
    "#     reference = f.readSignal(signal_labels.index(ref_chan), \\\n",
    "#                              start = minute * freq * 60 * mins_to_process, \\\n",
    "#                              n = freq * 60 * mins_to_process)\n",
    "\n",
    "    # Populate area of data for the current block across all channels\n",
    "    for i, chan in enumerate(valid_channels):\n",
    "\n",
    "        data_block[i, :] = f.readSignal(signal_labels.index(chan), \\\n",
    "                                        start = minute * freq * 60 * mins_to_process, \\\n",
    "                                        n = freq * 60 * mins_to_process)# - reference\n",
    "        \n",
    "    # Index of channel to consider\n",
    "    chan = random.choices(valid_channels)[0]\n",
    "    chan = 'EEG I4'\n",
    "    \n",
    "    # Randomly select a 5 second segment within the minute of data to show detections for (note: 12 blocks of 5s)\n",
    "    five_second_segment = random.randrange(12)\n",
    "    five_second_segment = 2\n",
    "    \n",
    "    print(minute, chan, five_second_segment)\n",
    "    \n",
    "    for DetThresholds in DetThresholds_list:\n",
    "        # Detect IEDs in current block across all chanels\n",
    "        SpikeIndex, ChanId, _ = DetectSpikes(data_block, freq,\\\n",
    "                                             STDCoeff=DetThresholds)\n",
    "\n",
    "        info = mne.create_info([chan], freq, ch_types='seeg')\n",
    "        data = mne.io.RawArray(data = [data_block[valid_channels.index(chan)] \\\n",
    "                                       [five_second_segment * freq * 5 : \\\n",
    "                                        (five_second_segment + 1) * freq * 5]], info = info)\n",
    "\n",
    "        onsets = []\n",
    "        durations = []\n",
    "        descriptions = []\n",
    "        \n",
    "        SpikeIds_from_zero = SpikeIndex - five_second_segment * freq * 5\n",
    "        spike_indices = np.logical_and(ChanId == valid_channels.index(chan), SpikeIds_from_zero < 5 * freq)\n",
    "        \n",
    "        for spike in SpikeIds_from_zero[spike_indices]:\n",
    "            if spike > 0:\n",
    "                onsets.append(spike / 2048)\n",
    "                durations.append(0.01)\n",
    "                descriptions.append('IED')\n",
    "\n",
    "        my_annot = mne.Annotations(onset=onsets,  # in seconds\n",
    "                                   duration=durations,  # in seconds, too\n",
    "                                   description=descriptions)\n",
    "\n",
    "        data = data.set_annotations(my_annot)\n",
    "\n",
    "        # test = data.plot(start=20, duration=2, n_channels=6, scalings=dict(eeg=5e-4))\n",
    "        fig = data.plot(scalings=dict(seeg=1e3), show_scrollbars=False)\n",
    "\n",
    "        plt.show()\n",
    "        \n",
    "DetThresholds_list = [[7, 7, 200, 10, 10],\n",
    "                      [7, 7, 400, 10, 10],\n",
    "                      [7, 7, 600, 10, 10],\n",
    "                      [7, 7, 800, 10, 10]]\n",
    "\n",
    "STDCoeff_list = [2, 3]\n",
    "\n",
    "SCALE_list = [70]\n",
    "\n",
    "# generate_detections(DetThresholds_list)\n",
    "generate_detections(STDCoeff_list)"
   ]
  },
  {
   "cell_type": "markdown",
   "id": "896331bb",
   "metadata": {},
   "source": [
    "Det Thresholds: [7, 7, 600, 10, 10]\n",
    "\n",
    "7 seems fine for the first two arguments. Definitely not 9. (explored 5-9)\n",
    "\n",
    "STDCoeff: 3 seems okay (explored 2-6). 2 has less false negatives, but more false positives.\n",
    "\n",
    "scales of 60-90 so far (explored 50-90). 70 seems good."
   ]
  }
 ],
 "metadata": {
  "kernelspec": {
   "display_name": "Python 3",
   "language": "python",
   "name": "python3"
  },
  "language_info": {
   "codemirror_mode": {
    "name": "ipython",
    "version": 3
   },
   "file_extension": ".py",
   "mimetype": "text/x-python",
   "name": "python",
   "nbconvert_exporter": "python",
   "pygments_lexer": "ipython3",
   "version": "3.7.10"
  }
 },
 "nbformat": 4,
 "nbformat_minor": 5
}
