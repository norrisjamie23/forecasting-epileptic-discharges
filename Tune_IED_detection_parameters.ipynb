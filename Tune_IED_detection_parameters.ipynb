{
 "cells": [
  {
   "cell_type": "markdown",
   "id": "5d5697a4",
   "metadata": {},
   "source": [
    "This notebook detects IEDs using different parameters."
   ]
  },
  {
   "cell_type": "code",
   "execution_count": 4,
   "id": "581470ab",
   "metadata": {},
   "outputs": [],
   "source": [
    "import mne\n",
    "import scipy.io\n",
    "import numpy as np\n",
    "import matplotlib.pyplot as plt\n",
    "import matplotlib \n",
    "import math\n",
    "import pyedflib\n",
    "import random\n",
    "from tqdm import tqdm\n",
    "import pandas as pd\n",
    "\n",
    "matplotlib.rcParams['figure.figsize'] = (10, 2)\n",
    "mne.set_log_level('WARNING')\n",
    "\n",
    "%run DetectSpike_SEEG.py"
   ]
  },
  {
   "cell_type": "markdown",
   "id": "3e328270",
   "metadata": {},
   "source": [
    "Open the file"
   ]
  },
  {
   "cell_type": "markdown",
   "id": "85ca30fd",
   "metadata": {},
   "source": [
    "## DaKa"
   ]
  },
  {
   "cell_type": "code",
   "execution_count": 2,
   "id": "1882f407",
   "metadata": {},
   "outputs": [],
   "source": [
    "# file_name = 'Data/TrialPatientBeSa/X~ X_74addeec-ea9c-4b25-8280-cab2db067651.EDF'\n",
    "# file_name = 'Data/TrialPatientArRa/X~ X_2fc7b4bb-d0f1-45b1-b60d-0ec24a942259.EDF'\n",
    "file_name = 'Data/TrialPatientDaKa/X~ X_0696a934-8738-44ab-8904-99b1d92c4b39.EDF'\n",
    "\n",
    "f = pyedflib.EdfReader(file_name)\n",
    "\n",
    "min_min, max_min = 720, 1200"
   ]
  },
  {
   "cell_type": "code",
   "execution_count": 10,
   "id": "c2b6b9b4",
   "metadata": {},
   "outputs": [],
   "source": [
    "# Load file containing suitable channels and convert to list\n",
    "df = pd.read_excel('Data/TrialPatientDaKa/Electrodes.xlsx', header=None)\n",
    "valid_channels = df[0].tolist()\n",
    "\n",
    "df = pd.read_excel('Data/TrialPatientDaKa/Electrode_mapping.xlsx')\n",
    "\n",
    "valid_channels_mapped = []\n",
    "for valid_channel in valid_channels:\n",
    "    valid_channels_mapped.append(\"C\" + str(int(df[df.Original == valid_channel].Mapped)))\n",
    "    \n",
    "signal_labels = f.getSignalLabels()\n",
    "\n",
    "freq = 2048"
   ]
  },
  {
   "cell_type": "code",
   "execution_count": 454,
   "id": "c5837a36",
   "metadata": {},
   "outputs": [],
   "source": [
    "# artifact_chans_idx = [46, 47, 49, 51, 52, 53, 57, 59, 98, 99, 113, 137, 146]\n",
    "# artifact_chans_names = ['C' + str(idx) for idx in artifact_chans_idx]\n",
    "\n",
    "# valid_channels_mapped_clean = [chan for chan in valid_channels_mapped if chan not in artifact_chans_names]\n",
    "# valid_channels_clean = [valid_channels[valid_channels_mapped.index(chan)] for chan in valid_channels_mapped_clean]"
   ]
  },
  {
   "cell_type": "code",
   "execution_count": 6,
   "id": "c4989267",
   "metadata": {},
   "outputs": [],
   "source": [
    "sample_size = 50\n",
    "valid_channels_sample = [valid_channels_mapped[i] for i in sorted(random.sample(range(len(valid_channels_mapped)), sample_size))]"
   ]
  },
  {
   "cell_type": "code",
   "execution_count": 47,
   "id": "7287a9af",
   "metadata": {},
   "outputs": [],
   "source": [
    "from random import randrange"
   ]
  },
  {
   "cell_type": "code",
   "execution_count": 7,
   "id": "1db3738b",
   "metadata": {},
   "outputs": [],
   "source": [
    "np.save('eeg_samples/sampled_channels.npy', np.array(valid_channels_sample))"
   ]
  },
  {
   "cell_type": "code",
   "execution_count": 8,
   "id": "f3903d27",
   "metadata": {},
   "outputs": [
    {
     "data": {
      "text/plain": [
       "array(['C2', 'C4', 'C7', 'C8', 'C9', 'C12', 'C17', 'C18', 'C19', 'C20',\n",
       "       'C25', 'C26', 'C27', 'C28', 'C29', 'C30', 'C34', 'C35', 'C41',\n",
       "       'C58', 'C61', 'C62', 'C65', 'C66', 'C73', 'C76', 'C77', 'C80',\n",
       "       'C81', 'C88', 'C90', 'C96', 'C100', 'C103', 'C107', 'C108', 'C112',\n",
       "       'C130', 'C131', 'C132', 'C134', 'C135', 'C136', 'C139', 'C140',\n",
       "       'C145', 'C152', 'C153', 'C154', 'C155'], dtype='<U4')"
      ]
     },
     "execution_count": 8,
     "metadata": {},
     "output_type": "execute_result"
    }
   ],
   "source": [
    "np.array(valid_channels_sample)"
   ]
  },
  {
   "cell_type": "code",
   "execution_count": 11,
   "id": "e5104a9e",
   "metadata": {},
   "outputs": [],
   "source": [
    "bh, ah = butter(2, 0.5 / (freq / 2), 'highpass')\n",
    "bl, al = butter(4, 70 / (freq / 2), 'lowpass')"
   ]
  },
  {
   "cell_type": "code",
   "execution_count": 48,
   "id": "5f528492",
   "metadata": {},
   "outputs": [],
   "source": [
    "from pyedflib import EdfWriter, FILETYPE_EDF, FILETYPE_EDFPLUS\n",
    "from datetime import datetime\n",
    "\n",
    "start_date = datetime(2017, 5, 24, 15, 53, 49)\n",
    "\n",
    "def save_eeg(data, valid_channels_sample, filename, all_annotations=None):\n",
    "    with pyedflib.EdfWriter(filename, len(valid_channels_sample), FILETYPE_EDFPLUS) as writer:\n",
    "        writer.setPatientCode('')\n",
    "        writer.setRecordingAdditional('')\n",
    "        writer.setStartdatetime(start_date)\n",
    "        writer.setSignalHeaders([{\n",
    "#             'label': valid_channels[valid_channels_mapped.index(valid_channel)],\n",
    "            'label': str(i),\n",
    "            'sample_rate': float(freq),\n",
    "            'dimension': 'uV',\n",
    "            'physical_min': -8711.0,\n",
    "            'physical_max': 8711.0,\n",
    "            'digital_min': -32767,\n",
    "            'digital_max': 32767,\n",
    "            'transducer': '',\n",
    "            'prefilter': ''\n",
    "        } for i, valid_channel in enumerate(valid_channels_sample)])\n",
    "        \n",
    "        writer.writeSamples(data)\n",
    "        \n",
    "        if all_annotations is not None:\n",
    "            for all_annotation in all_annotations:\n",
    "                for annotation in all_annotation:\n",
    "                    # add seconds of index of all_annotation?\n",
    "                    writer.writeAnnotation(annotation[0], annotation[1], 'IED sequence')\n",
    "#     writer.close()"
   ]
  },
  {
   "cell_type": "code",
   "execution_count": 80,
   "id": "802e9496",
   "metadata": {},
   "outputs": [
    {
     "name": "stderr",
     "output_type": "stream",
     "text": [
      " 19%|███████▊                                  | 20/107 [00:40<02:56,  2.03s/it]"
     ]
    },
    {
     "name": "stdout",
     "output_type": "stream",
     "text": [
      "19.23193359375 0.0\n"
     ]
    },
    {
     "name": "stderr",
     "output_type": "stream",
     "text": [
      " 25%|██████████▌                               | 27/107 [00:56<03:31,  2.65s/it]"
     ]
    },
    {
     "name": "stdout",
     "output_type": "stream",
     "text": [
      "26.38330078125 0.0\n"
     ]
    },
    {
     "name": "stderr",
     "output_type": "stream",
     "text": [
      " 45%|██████████████████▊                       | 48/107 [01:40<02:01,  2.07s/it]"
     ]
    },
    {
     "name": "stdout",
     "output_type": "stream",
     "text": [
      "47.546875 0.0078125\n"
     ]
    },
    {
     "name": "stderr",
     "output_type": "stream",
     "text": [
      " 61%|█████████████████████████▌                | 65/107 [02:17<01:27,  2.07s/it]"
     ]
    },
    {
     "name": "stdout",
     "output_type": "stream",
     "text": [
      "64.12548828125 0.00146484375\n",
      "64.546875 0.0\n"
     ]
    },
    {
     "name": "stderr",
     "output_type": "stream",
     "text": [
      " 64%|██████████████████████████▋               | 68/107 [02:23<01:20,  2.07s/it]"
     ]
    },
    {
     "name": "stdout",
     "output_type": "stream",
     "text": [
      "67.11962890625 0.0\n"
     ]
    },
    {
     "name": "stderr",
     "output_type": "stream",
     "text": [
      " 75%|███████████████████████████████▍          | 80/107 [02:48<00:54,  2.04s/it]"
     ]
    },
    {
     "name": "stdout",
     "output_type": "stream",
     "text": [
      "79.23046875 0.001953125\n",
      "79.7685546875 0.0\n",
      "79.8779296875 0.0\n"
     ]
    },
    {
     "name": "stderr",
     "output_type": "stream",
     "text": [
      "100%|█████████████████████████████████████████| 107/107 [03:46<00:00,  2.12s/it]\n"
     ]
    }
   ],
   "source": [
    "spacing = (max_min - min_min) // 100\n",
    "%run utils.py\n",
    "combined_data = []\n",
    "all_annotations = []\n",
    "\n",
    "for iteration, min_start in enumerate(tqdm(range(min_min, max_min, spacing))):\n",
    "    \n",
    "    random.seed(iteration)\n",
    "    random_start = randrange(0, len(valid_channels_mapped) - sample_size + 1)\n",
    "#     valid_channels_sample = valid_channels_mapped[random_start:random_start + sample_size]\n",
    "    valid_channels_sample = valid_channels[random_start:random_start + sample_size]\n",
    "\n",
    "    data = np.zeros((len(valid_channels_sample), freq * 60))\n",
    "\n",
    "    # Populate area of data for the current block across all channels\n",
    "    for i, chan in enumerate(valid_channels_sample):\n",
    "\n",
    "        data[i, :] = f.readSignal(signal_labels.index(chan), \\\n",
    "                                        start = min_start * freq * 60, \\\n",
    "                                        n = freq * 60)\n",
    "        \n",
    "    filename = 'eeg_samples/from_' + str(min_start) + '.edf'\n",
    "    \n",
    "    save_eeg(data, valid_channels_sample, filename)\n",
    "                    \n",
    "    # Detect IEDs in current block across all chanels\n",
    "    spike_id, chan_id, _ = DetectSpikes(data, freq, STDCoeff=2)\n",
    "    \n",
    "    all_seq_spikes, all_seq_chans = spikes_to_sequences(spike_id, chan_id, 0.015, 0.015)\n",
    "    \n",
    "    data = filtfilt(bh, ah, data)\n",
    "    data = filtfilt(bl, al, data)\n",
    "\n",
    "    # seconds 1 to 2\n",
    "    combined_data.append(data[:, 2048:2048*2])\n",
    "    \n",
    "    curr_annotations = []\n",
    "    for all_seq_spike in all_seq_spikes:\n",
    "        if (1 <= all_seq_spike[0] / 2048 <= 2) or (1 <= all_seq_spike[-1] / 2048 <= 2):\n",
    "            start = iteration - 1 + all_seq_spike[0] / 2048\n",
    "            end = iteration - 1 + all_seq_spike[-1] / 2048\n",
    "            duration = end - start\n",
    "            curr_annotations.append((start, duration))\n",
    "            print(start, duration)\n",
    "        elif all_seq_spike[-1] > 2:\n",
    "            break\n",
    "    all_annotations.append(curr_annotations)\n",
    "    \n",
    "#     print(len(all_seq_spikes))"
   ]
  },
  {
   "cell_type": "code",
   "execution_count": 82,
   "id": "ce24989e",
   "metadata": {},
   "outputs": [],
   "source": [
    "filename = 'eeg_samples/BeSa.edf'\n",
    "            \n",
    "save_eeg(np.concatenate(combined_data, axis=-1), valid_channels_sample, filename, all_annotations)"
   ]
  },
  {
   "cell_type": "code",
   "execution_count": 75,
   "id": "185fb04e",
   "metadata": {
    "scrolled": false
   },
   "outputs": [
    {
     "name": "stderr",
     "output_type": "stream",
     "text": [
      "  0%|                                                    | 0/20 [00:00<?, ?it/s]\n"
     ]
    },
    {
     "ename": "ValueError",
     "evalue": "'C3' is not in list",
     "output_type": "error",
     "traceback": [
      "\u001b[0;31m---------------------------------------------------------------------------\u001b[0m",
      "\u001b[0;31mValueError\u001b[0m                                Traceback (most recent call last)",
      "\u001b[0;32m/var/folders/s8/yc5ds6dn11ncxwggkx3c6wrc0000gn/T/ipykernel_42407/1659172177.py\u001b[0m in \u001b[0;36m<module>\u001b[0;34m\u001b[0m\n\u001b[1;32m     11\u001b[0m     \u001b[0;32mfor\u001b[0m \u001b[0mi\u001b[0m\u001b[0;34m,\u001b[0m \u001b[0mchan\u001b[0m \u001b[0;32min\u001b[0m \u001b[0menumerate\u001b[0m\u001b[0;34m(\u001b[0m\u001b[0mvalid_channels_sample\u001b[0m\u001b[0;34m)\u001b[0m\u001b[0;34m:\u001b[0m\u001b[0;34m\u001b[0m\u001b[0;34m\u001b[0m\u001b[0m\n\u001b[1;32m     12\u001b[0m \u001b[0;34m\u001b[0m\u001b[0m\n\u001b[0;32m---> 13\u001b[0;31m         data[i, :] = f.readSignal(signal_labels.index(chan), \\\n\u001b[0m\u001b[1;32m     14\u001b[0m                                         \u001b[0mstart\u001b[0m \u001b[0;34m=\u001b[0m \u001b[0mmin_start\u001b[0m \u001b[0;34m*\u001b[0m \u001b[0mfreq\u001b[0m \u001b[0;34m*\u001b[0m \u001b[0;36m60\u001b[0m\u001b[0;34m,\u001b[0m\u001b[0;31m \u001b[0m\u001b[0;31m\\\u001b[0m\u001b[0;34m\u001b[0m\u001b[0;34m\u001b[0m\u001b[0m\n\u001b[1;32m     15\u001b[0m                                         n = freq * 60)\n",
      "\u001b[0;31mValueError\u001b[0m: 'C3' is not in list"
     ]
    }
   ],
   "source": [
    "spacing = (max_min - min_min) // 20\n",
    "%run utils.py\n",
    "combined_data = []\n",
    "all_annotations = []\n",
    "\n",
    "for iteration, min_start in enumerate(tqdm(range(min_min, max_min, spacing))):\n",
    "\n",
    "    data = np.zeros((len(valid_channels_sample), freq * 60))\n",
    "\n",
    "    # Populate area of data for the current block across all channels\n",
    "    for i, chan in enumerate(valid_channels_sample):\n",
    "\n",
    "        data[i, :] = f.readSignal(signal_labels.index(chan), \\\n",
    "                                        start = min_start * freq * 60, \\\n",
    "                                        n = freq * 60)\n",
    "        \n",
    "    filename = 'eeg_samples/BeSa/from_' + str(min_start) + '.edf'\n",
    "    \n",
    "    save_eeg(data, valid_channels_sample, filename)\n",
    "                    \n",
    "    # Detect IEDs in current block across all chanels\n",
    "    spike_id, chan_id, _ = DetectSpikes(data, freq, STDCoeff=2)\n",
    "    \n",
    "    all_seq_spikes, all_seq_chans = spikes_to_sequences(spike_id, chan_id, 0.05, 0.015)\n",
    "    \n",
    "    data = filtfilt(bh, ah, data)\n",
    "    data = filtfilt(bl, al, data)\n",
    "\n",
    "    # seconds 1 to 2\n",
    "    combined_data.append(data[:, 2048:2048*2])\n",
    "    \n",
    "    curr_annotations = []\n",
    "    for all_seq_spike in all_seq_spikes:\n",
    "        if (1 <= all_seq_spike[0] / 2048 <= 2) or (1 <= all_seq_spike[-1] / 2048 <= 2):\n",
    "            start = iteration - 1 + all_seq_spike[0] / 2048\n",
    "            end = iteration - 1 + all_seq_spike[-1] / 2048\n",
    "            duration = end - start\n",
    "            curr_annotations.append((start, duration))\n",
    "            print(start, duration)\n",
    "        elif all_seq_spike[-1] > 2:\n",
    "            break\n",
    "    all_annotations.append(curr_annotations)\n",
    "    \n",
    "#     print(len(all_seq_spikes))"
   ]
  },
  {
   "cell_type": "markdown",
   "id": "3f90a395",
   "metadata": {},
   "source": [
    "## BeSa"
   ]
  },
  {
   "cell_type": "code",
   "execution_count": 73,
   "id": "c6ce59c2",
   "metadata": {},
   "outputs": [],
   "source": [
    "file_name = 'Data/TrialPatientBeSa/X~ X_74addeec-ea9c-4b25-8280-cab2db067651.EDF'\n",
    "\n",
    "f = pyedflib.EdfReader(file_name)\n",
    "\n",
    "min_min, max_min = 720, 2100"
   ]
  },
  {
   "cell_type": "code",
   "execution_count": 74,
   "id": "014a6fe3",
   "metadata": {},
   "outputs": [],
   "source": [
    "# Load file containing suitable channels and convert to list\n",
    "df = pd.read_excel('Data/TrialPatientBeSa/BeSA/sub-01/Electrodes.xlsx', header=None)\n",
    "valid_channels = ['EEG ' + name for name in df[0].tolist()]\n",
    "\n",
    "signal_labels = f.getSignalLabels()"
   ]
  },
  {
   "cell_type": "code",
   "execution_count": 510,
   "id": "4893cb7e",
   "metadata": {},
   "outputs": [],
   "source": [
    "sample_size = 50\n",
    "valid_channels_sample = [valid_channels[i] for i in sorted(random.sample(range(len(valid_channels)), sample_size))]"
   ]
  },
  {
   "cell_type": "code",
   "execution_count": 511,
   "id": "14e5f932",
   "metadata": {},
   "outputs": [],
   "source": [
    "np.save('eeg_samples/BeSa/sampled_channels.npy', np.array(valid_channels_sample))"
   ]
  },
  {
   "cell_type": "code",
   "execution_count": 512,
   "id": "6acd0d34",
   "metadata": {},
   "outputs": [
    {
     "data": {
      "text/plain": [
       "array(['EEG A8', 'EEG A13', 'EEG B1', 'EEG B2', 'EEG B3', 'EEG B4',\n",
       "       'EEG B5', 'EEG B7', 'EEG B8', 'EEG B9', 'EEG B10', 'EEG C1',\n",
       "       'EEG C2', 'EEG C4', 'EEG C5', 'EEG C10', 'EEG C11', 'EEG C12',\n",
       "       'EEG D2', 'EEG D4', 'EEG D5', 'EEG D7', 'EEG D8', 'EEG D13',\n",
       "       'EEG F6', 'EEG F13', 'EEG G1', 'EEG G2', 'EEG G3', 'EEG H1',\n",
       "       'EEG I2', 'EEG K2', 'EEG K3', 'EEG K4', 'EEG K9', 'EEG L5',\n",
       "       'EEG L11', 'EEG L12', 'EEG L13', 'EEG L14', 'EEG L15', 'EEG L16',\n",
       "       'EEG M2', 'EEG M8', 'EEG M9', 'EEG M10', 'EEG M12', 'EEG M13',\n",
       "       'EEG N14', 'EEG N15'], dtype='<U7')"
      ]
     },
     "execution_count": 512,
     "metadata": {},
     "output_type": "execute_result"
    }
   ],
   "source": [
    "np.array(valid_channels_sample)"
   ]
  },
  {
   "cell_type": "code",
   "execution_count": 514,
   "id": "41728469",
   "metadata": {},
   "outputs": [],
   "source": [
    "from pyedflib import EdfWriter, FILETYPE_EDF\n",
    "from datetime import datetime\n",
    "\n",
    "start_date = datetime(2017, 5, 24, 15, 53, 49)\n",
    "\n",
    "def save_eeg(data, valid_channels_sample, filename, all_annotations=None):\n",
    "    with pyedflib.EdfWriter(filename, len(valid_channels_sample), FILETYPE_EDF) as writer:\n",
    "        writer.setPatientCode('')\n",
    "        writer.setRecordingAdditional('')\n",
    "        writer.setStartdatetime(start_date)\n",
    "        writer.setSignalHeaders([{\n",
    "            'label': valid_channel,\n",
    "            'sample_rate': float(freq),\n",
    "            'dimension': 'uV',\n",
    "            'physical_min': -8711.0,\n",
    "            'physical_max': 8711.0,\n",
    "            'digital_min': -32767,\n",
    "            'digital_max': 32767,\n",
    "            'transducer': '',\n",
    "            'prefilter': ''\n",
    "        } for valid_channel in valid_channels_sample])\n",
    "        \n",
    "        writer.writeSamples(data)\n",
    "        \n",
    "#         if all_annotations is not None:\n",
    "#             for all_annotation in all_annotations:\n",
    "#                 for annotation in all_annotation:\n",
    "#                     # add seconds of index of all_annotation?\n",
    "#                     writer.writeAnnotation(annotation[0], annotation[1], 'IED sequence')\n",
    "#     writer.close()"
   ]
  },
  {
   "cell_type": "code",
   "execution_count": 516,
   "id": "fecbd0dd",
   "metadata": {},
   "outputs": [
    {
     "name": "stderr",
     "output_type": "stream",
     "text": [
      " 25%|███████████                                 | 5/20 [00:12<00:35,  2.39s/it]"
     ]
    },
    {
     "name": "stdout",
     "output_type": "stream",
     "text": [
      "5.44970703125 5.44970703125\n",
      "5.88134765625 5.88134765625\n"
     ]
    },
    {
     "name": "stderr",
     "output_type": "stream",
     "text": [
      " 60%|█████████████████████████▊                 | 12/20 [00:25<00:15,  1.97s/it]"
     ]
    },
    {
     "name": "stdout",
     "output_type": "stream",
     "text": [
      "12.8271484375 12.8271484375\n"
     ]
    },
    {
     "name": "stderr",
     "output_type": "stream",
     "text": [
      " 70%|██████████████████████████████             | 14/20 [00:29<00:11,  2.00s/it]"
     ]
    },
    {
     "name": "stdout",
     "output_type": "stream",
     "text": [
      "14.58740234375 14.58740234375\n"
     ]
    },
    {
     "name": "stderr",
     "output_type": "stream",
     "text": [
      " 90%|██████████████████████████████████████▋    | 18/20 [00:37<00:04,  2.02s/it]"
     ]
    },
    {
     "name": "stdout",
     "output_type": "stream",
     "text": [
      "18.88134765625 18.8818359375\n"
     ]
    },
    {
     "name": "stderr",
     "output_type": "stream",
     "text": [
      "100%|███████████████████████████████████████████| 20/20 [00:41<00:00,  2.09s/it]\n"
     ]
    }
   ],
   "source": [
    "spacing = (max_min - min_min) // 20\n",
    "%run utils.py\n",
    "combined_data = []\n",
    "all_annotations = []\n",
    "\n",
    "for iteration, min_start in enumerate(tqdm(range(min_min, max_min, spacing))):\n",
    "\n",
    "    data = np.zeros((len(valid_channels_sample), freq * 60))\n",
    "\n",
    "    # Populate area of data for the current block across all channels\n",
    "    for i, chan in enumerate(valid_channels_sample):\n",
    "\n",
    "        data[i, :] = f.readSignal(signal_labels.index(chan), \\\n",
    "                                        start = min_start * freq * 60, \\\n",
    "                                        n = freq * 60)\n",
    "        \n",
    "    filename = 'eeg_samples/BeSa/from_' + str(min_start) + '.edf'\n",
    "    \n",
    "    save_eeg(data, valid_channels_sample, filename)\n",
    "                    \n",
    "    # Detect IEDs in current block across all chanels\n",
    "    spike_id, chan_id, _ = DetectSpikes(data, freq, STDCoeff=2)\n",
    "    \n",
    "    all_seq_spikes, all_seq_chans = spikes_to_sequences(spike_id, chan_id, freq)\n",
    "    \n",
    "    data = filtfilt(bh, ah, data)\n",
    "    data = filtfilt(bl, al, data)\n",
    "\n",
    "    # seconds 1 to 2\n",
    "    combined_data.append(data[:, 2048:2048*2])\n",
    "    \n",
    "    curr_annotations = []\n",
    "    for all_seq_spike in all_seq_spikes:\n",
    "        if (1 <= all_seq_spike[0] / 2048 <= 2) or (1 <= all_seq_spike[-1] / 2048 <= 2):\n",
    "            curr_annotations.append((all_seq_spike[0] / 2048, (all_seq_spike[-1] - all_seq_spike[0]) / 2048))\n",
    "            print(iteration + all_seq_spike[0] / 2048, iteration + all_seq_spike[-1] / 2048)\n",
    "        elif all_seq_spike[-1] > 2:\n",
    "            break\n",
    "    all_annotations.append(curr_annotations)\n",
    "    \n",
    "#     print(len(all_seq_spikes))"
   ]
  },
  {
   "cell_type": "code",
   "execution_count": 517,
   "id": "89537286",
   "metadata": {},
   "outputs": [],
   "source": [
    "filename = 'eeg_samples/BeSa/combined.edf'\n",
    "            \n",
    "save_eeg(np.concatenate(combined_data, axis=-1), valid_channels_sample, filename, all_annotations)"
   ]
  },
  {
   "cell_type": "markdown",
   "id": "c8c53a50",
   "metadata": {},
   "source": [
    "Define file specific parameters"
   ]
  },
  {
   "cell_type": "code",
   "execution_count": 78,
   "id": "e3e6ed1b",
   "metadata": {},
   "outputs": [],
   "source": [
    "freq = 2048"
   ]
  },
  {
   "cell_type": "markdown",
   "id": "386cd387",
   "metadata": {},
   "source": [
    "Get channels and number of channels"
   ]
  },
  {
   "cell_type": "code",
   "execution_count": 5,
   "id": "8874c07c",
   "metadata": {},
   "outputs": [],
   "source": [
    "num_chans = f.signals_in_file  # change to valid_channels.shape[0]\n",
    "signal_labels = f.getSignalLabels()"
   ]
  },
  {
   "cell_type": "markdown",
   "id": "4481b246",
   "metadata": {},
   "source": [
    "Get list of channels to use from channels.mat"
   ]
  },
  {
   "cell_type": "code",
   "execution_count": 79,
   "id": "255b82b5",
   "metadata": {},
   "outputs": [],
   "source": [
    "# Load file containing suitable channels and convert to list\n",
    "df = pd.read_excel('Data/TrialPatientDaKa/Electrodes.xlsx', header=None)\n",
    "valid_channels = df[0].tolist()\n",
    "\n",
    "df = pd.read_excel('Data/TrialPatientDaKa/Electrode_mapping.xlsx')\n",
    "\n",
    "valid_channels_mapped = []\n",
    "for valid_channel in valid_channels:\n",
    "    valid_channels_mapped.append(\"C\" + str(int(df[df.Original == valid_channel].Mapped)))"
   ]
  },
  {
   "cell_type": "code",
   "execution_count": 5,
   "id": "fe8a38d6",
   "metadata": {},
   "outputs": [],
   "source": [
    "# Load file containing suitable channels and convert to list\n",
    "mat = scipy.io.loadmat('Data/TrialPatientArRa/channels.mat')\n",
    "valid_channels = [channel[0] for channel in mat['channels'][:, 0]]\n",
    "\n",
    "# valid_channels = signal_labels"
   ]
  },
  {
   "cell_type": "code",
   "execution_count": 8,
   "id": "92ce9a74",
   "metadata": {},
   "outputs": [],
   "source": [
    "import pandas as pd\n",
    "\n",
    "# Load file containing suitable channels and convert to list\n",
    "df = pd.read_excel('Data/TrialPatientDaKa/Electrodes.xlsx', header=None)\n",
    "valid_channels_unmapped = df[0].tolist()\n",
    "\n",
    "df = pd.read_excel('Data/TrialPatientDaKa/Electrode_mapping.xlsx')\n",
    "\n",
    "valid_channels = []\n",
    "for valid_channel in valid_channels_unmapped:\n",
    "    valid_channels.append(\"C\" + str(int(df[df.Original == valid_channel].Mapped)))"
   ]
  },
  {
   "cell_type": "code",
   "execution_count": 53,
   "id": "c3a02e8f",
   "metadata": {},
   "outputs": [
    {
     "data": {
      "text/plain": [
       "'C5'"
      ]
     },
     "execution_count": 53,
     "metadata": {},
     "output_type": "execute_result"
    }
   ],
   "source": [
    "valid_channels_unmapped[valid_channels.index('C47')]"
   ]
  },
  {
   "cell_type": "markdown",
   "id": "5d835ad2",
   "metadata": {},
   "source": [
    "Process a random minute of data with a range of params and select random 5s segments in random channels to show detections for each set of params."
   ]
  },
  {
   "cell_type": "code",
   "execution_count": 18,
   "id": "f4d4b15a",
   "metadata": {},
   "outputs": [],
   "source": [
    "matplotlib.rcParams['figure.figsize'] = (2, 2)"
   ]
  },
  {
   "cell_type": "code",
   "execution_count": 92,
   "id": "88df38c6",
   "metadata": {
    "scrolled": false
   },
   "outputs": [
    {
     "name": "stdout",
     "output_type": "stream",
     "text": [
      "235 L12 8\n"
     ]
    },
    {
     "data": {
      "image/png": "[encoded data removed]",
      "text/plain": [
       "<MNEBrowseFigure size 921.6x691.2 with 4 Axes>"
      ]
     },
     "metadata": {
      "needs_background": "light"
     },
     "output_type": "display_data"
    },
    {
     "data": {
      "image/png": "[encoded data removed]",
      "text/plain": [
       "<MNEBrowseFigure size 921.6x691.2 with 4 Axes>"
      ]
     },
     "metadata": {
      "needs_background": "light"
     },
     "output_type": "display_data"
    }
   ],
   "source": [
    "# Process 1 minute at a time\n",
    "mins_to_process = 1\n",
    "\n",
    "M = f.getNSamples()[0]# / (freq * 60)\n",
    "\n",
    "NumSecs = M / freq\n",
    "Blocks = math.floor(NumSecs / (mins_to_process * 60))\n",
    "\n",
    "bh, ah = butter(2, 0.5 / (freq / 2), 'highpass')\n",
    "bl, al = butter(4, 70 / (freq / 2), 'lowpass')\n",
    "    \n",
    "def generate_detections(params_list):\n",
    "    \n",
    "    # Randomly choose a minute to select data from\n",
    "    minute = random.randrange(60, Blocks)\n",
    "    # minute = 28\n",
    "    \n",
    "    data_block = np.zeros((len(valid_channels_mapped), freq * 60 * mins_to_process))\n",
    "\n",
    "#     reference = f.readSignal(signal_labels.index(ref_chan), \\\n",
    "#                              start = minute * freq * 60 * mins_to_process, \\\n",
    "#                              n = freq * 60 * mins_to_process)\n",
    "\n",
    "    # Populate area of data for the current block across all channels\n",
    "    for i, chan in enumerate(valid_channels_mapped):\n",
    "\n",
    "        data_block[i, :] = f.readSignal(signal_labels.index(chan), \\\n",
    "                                        start = minute * freq * 60 * mins_to_process, \\\n",
    "                                        n = freq * 60 * mins_to_process)# - reference\n",
    "        \n",
    "    # Index of channel to consider\n",
    "    chan = random.choices(valid_channels)[0]\n",
    "    \n",
    "    # Randomly select a 5 second segment within the minute of data to show detections for (note: 12 blocks of 5s)\n",
    "    five_second_segment = random.randrange(12)\n",
    "    \n",
    "    print(minute, chan, five_second_segment)\n",
    "    \n",
    "    for params in params_list:\n",
    "        # Detect IEDs in current block across all chanels\n",
    "        SpikeIndex, ChanId, _ = DetectSpikes(data_block, freq, **params)\n",
    "        \n",
    "        data = filtfilt(bh, ah, data_block, padlen=150)\n",
    "        data_block = filtfilt(bl, al, data_block, padlen=150)\n",
    "\n",
    "        info = mne.create_info([chan], freq, ch_types='seeg')\n",
    "        data = mne.io.RawArray(data = [data_block[valid_channels.index(chan)] \\\n",
    "                                       [five_second_segment * freq * 5 : \\\n",
    "                                        (five_second_segment + 1) * freq * 5]], info = info)\n",
    "\n",
    "        onsets = []\n",
    "        durations = []\n",
    "        descriptions = []\n",
    "        \n",
    "        SpikeIds_from_zero = SpikeIndex - five_second_segment * freq * 5\n",
    "        spike_indices = np.logical_and(ChanId == valid_channels.index(chan), SpikeIds_from_zero < 5 * freq)\n",
    "        \n",
    "        for spike in SpikeIds_from_zero[spike_indices]:\n",
    "            if spike > 0:\n",
    "                onsets.append(spike / 2048)\n",
    "                durations.append(0.01)\n",
    "                descriptions.append('IED')\n",
    "\n",
    "        my_annot = mne.Annotations(onset=onsets,  # in seconds\n",
    "                                   duration=durations,  # in seconds, too\n",
    "                                   description=descriptions)\n",
    "\n",
    "        data = data.set_annotations(my_annot)\n",
    "\n",
    "        # test = data.plot(start=20, duration=2, n_channels=6, scalings=dict(eeg=5e-4))\n",
    "        fig = data.plot(scalings=dict(seeg=3e3), show_scrollbars=False)\n",
    "\n",
    "        plt.show()\n",
    "        \n",
    "DetThresholds_list = [{'DetThresholds':[7, 7, 200, 10, 10]},\n",
    "                      {'DetThresholds':[7, 7, 400, 10, 10]},\n",
    "                      {'DetThresholds':[7, 7, 600, 10, 10]},\n",
    "                      {'DetThresholds':[7, 7, 800, 10, 10]}]\n",
    "\n",
    "STDCoeff_list = [2, 3]\n",
    "\n",
    "SCALE_list = [70]\n",
    "\n",
    "params1 = {'STDCoeff': 2}\n",
    "params2 = {'STDCoeff': 3}\n",
    "\n",
    "# generate_detections(DetThresholds_list)\n",
    "generate_detections([params1, params2])"
   ]
  },
  {
   "cell_type": "markdown",
   "id": "896331bb",
   "metadata": {},
   "source": [
    "Det Thresholds: [7, 7, 600, 10, 10]\n",
    "\n",
    "7 seems fine for the first two arguments. Definitely not 9. (explored 5-9)\n",
    "\n",
    "STDCoeff: 3 seems okay (explored 2-6). 2 has less false negatives, but more false positives.\n",
    "\n",
    "scales of 60-90 so far (explored 50-90). 70 seems good."
   ]
  }
 ],
 "metadata": {
  "kernelspec": {
   "display_name": "Python 3 (ipykernel)",
   "language": "python",
   "name": "python3"
  },
  "language_info": {
   "codemirror_mode": {
    "name": "ipython",
    "version": 3
   },
   "file_extension": ".py",
   "mimetype": "text/x-python",
   "name": "python",
   "nbconvert_exporter": "python",
   "pygments_lexer": "ipython3",
   "version": "3.9.6"
  }
 },
 "nbformat": 4,
 "nbformat_minor": 5
}
