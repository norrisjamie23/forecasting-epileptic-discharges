{
 "cells": [
  {
   "cell_type": "markdown",
   "id": "pacific-category",
   "metadata": {},
   "source": [
    "# CNN for IED forecasting\n",
    "\n",
    "This notebook implements a simple CNN for IED classification. The CNN has 4 convolutional layers, each followed by ReLU activation functions and max pooling. The task in this notebook is single channel and is therefore a more simple task than what will eventually be implemented, but is useful to show what we can do with our data using a CNN."
   ]
  },
  {
   "cell_type": "code",
   "execution_count": 3,
   "id": "juvenile-stevens",
   "metadata": {},
   "outputs": [],
   "source": [
    "import numpy as np\n",
    "import matplotlib.pyplot as plt\n",
    "\n",
    "from tensorflow.keras.models import Sequential, load_model\n",
    "from tensorflow.keras.layers import Dense, Flatten, Conv1D, MaxPooling1D, BatchNormalization, Activation, MaxPool1D\n",
    "from tensorflow.keras.activations import relu\n",
    "from tensorflow.keras.callbacks import EarlyStopping, ModelCheckpoint\n",
    "from tensorflow.keras.metrics import Accuracy, AUC\n",
    "from tensorflow.keras.optimizers import Adam\n",
    "\n",
    "from sklearn.model_selection import train_test_split\n",
    "from sklearn.preprocessing import MinMaxScaler"
   ]
  },
  {
   "cell_type": "code",
   "execution_count": 57,
   "id": "treated-dubai",
   "metadata": {},
   "outputs": [],
   "source": [
    "X = np.load('X.npy')\n",
    "y = np.load('y.npy')"
   ]
  },
  {
   "cell_type": "code",
   "execution_count": 58,
   "id": "simplified-guidance",
   "metadata": {},
   "outputs": [],
   "source": [
    "from scipy import signal\n",
    "\n",
    "y = 1 * (y > 0)\n",
    "zero = X[y == 0]\n",
    "one = X[y == 1]"
   ]
  },
  {
   "cell_type": "code",
   "execution_count": 59,
   "id": "theoretical-sapphire",
   "metadata": {},
   "outputs": [
    {
     "data": {
      "text/plain": [
       "((38631, 2048), (4689, 2048))"
      ]
     },
     "execution_count": 59,
     "metadata": {},
     "output_type": "execute_result"
    }
   ],
   "source": [
    "zero.shape, one.shape"
   ]
  },
  {
   "cell_type": "code",
   "execution_count": 65,
   "id": "retired-diploma",
   "metadata": {},
   "outputs": [
    {
     "data": {
      "image/png": "[encoded data removed]",
      "text/plain": [
       "<Figure size 360x288 with 1 Axes>"
      ]
     },
     "metadata": {
      "needs_background": "light"
     },
     "output_type": "display_data"
    }
   ],
   "source": [
    "psds_zero = []\n",
    "psds_one = []\n",
    "\n",
    "freqs = signal.welch(zero[0])[0]\n",
    "for zero_elem in zero:\n",
    "    _, psd = signal.welch(zero_elem)\n",
    "    psds_zero.append(psd)\n",
    "    \n",
    "psds_zero = np.array(psds_zero).mean(axis=0)\n",
    "\n",
    "for one_elem in one:\n",
    "    _, psd = signal.welch(one_elem)\n",
    "    psds_one.append(psd)\n",
    "    \n",
    "psds_one = np.array(psds_one).mean(axis=0)\n",
    "    \n",
    "fig = plt.figure(figsize=(5, 4))\n",
    "ax = fig.add_subplot(1, 1, 1)\n",
    "plt.semilogx(freqs, psds_zero, label='No IEDs in next second')\n",
    "plt.semilogx(freqs, psds_one, label='IEDs in next second')\n",
    "plt.title('Average power spectral density')\n",
    "plt.xlabel('Frequency')\n",
    "plt.ylabel('Power')\n",
    "ax.set_yscale('log')\n",
    "# plt.xlim([0, 5e-2])\n",
    "plt.legend()\n",
    "plt.tight_layout()"
   ]
  },
  {
   "cell_type": "markdown",
   "id": "opened-parameter",
   "metadata": {},
   "source": [
    "Open the data and create training and test sets."
   ]
  },
  {
   "cell_type": "code",
   "execution_count": 14,
   "id": "patent-winning",
   "metadata": {},
   "outputs": [],
   "source": [
    "# Load the input data\n",
    "X = np.load('X.npy')[:200]\n",
    "\n",
    "# Load the labels\n",
    "y = np.load('y.npy')[:200]\n",
    "\n",
    "# Conver to a classification task: does the following window have 2 or more IEDs?\n",
    "y = 1 * (y > 2)\n",
    "\n",
    "# Split into training\n",
    "X_train, X_test, y_train, y_test = train_test_split(X, y, test_size=0.2)#, random_state=1)\n",
    "\n",
    "# Convert input data to [0, 1] range\n",
    "scaler = MinMaxScaler()\n",
    "\n",
    "# Fit to training data and transform both train & test\n",
    "X_train = scaler.fit_transform(X_train)\n",
    "X_test = scaler.transform(X_test)\n",
    "\n",
    "# Add dimension to make suitable for keras\n",
    "X_train = X_train.reshape(X_train.shape[0], X_train.shape[1], 1)\n",
    "X_test = X_test.reshape(X_test.shape[0], X_test.shape[1], 1)\n",
    "\n",
    "# As above for labels\n",
    "y_train = y_train.reshape(y_train.shape[0], 1)\n",
    "y_test = y_test.reshape(y_test.shape[0], 1)"
   ]
  },
  {
   "cell_type": "markdown",
   "id": "offensive-microwave",
   "metadata": {},
   "source": [
    "We can see how balanced our data is:"
   ]
  },
  {
   "cell_type": "code",
   "execution_count": 15,
   "id": "fifty-campaign",
   "metadata": {},
   "outputs": [
    {
     "data": {
      "text/plain": [
       "(0.5686274509803921, 0.6)"
      ]
     },
     "execution_count": 15,
     "metadata": {},
     "output_type": "execute_result"
    }
   ],
   "source": [
    "np.sum(y_train > 0)/np.sum(y_train <= 0), np.sum(y_test > 0)/np.sum(y_test <= 0)"
   ]
  },
  {
   "cell_type": "markdown",
   "id": "unlimited-result",
   "metadata": {},
   "source": [
    "And can now define our model:"
   ]
  },
  {
   "cell_type": "code",
   "execution_count": 16,
   "id": "burning-sword",
   "metadata": {
    "scrolled": false
   },
   "outputs": [
    {
     "name": "stdout",
     "output_type": "stream",
     "text": [
      "Model: \"sequential_1\"\n",
      "_________________________________________________________________\n",
      "Layer (type)                 Output Shape              Param #   \n",
      "=================================================================\n",
      "conv1d_4 (Conv1D)            (None, 20479, 8)          24        \n",
      "_________________________________________________________________\n",
      "max_pooling1d_4 (MaxPooling1 (None, 5119, 8)           0         \n",
      "_________________________________________________________________\n",
      "conv1d_5 (Conv1D)            (None, 5118, 16)          272       \n",
      "_________________________________________________________________\n",
      "max_pooling1d_5 (MaxPooling1 (None, 1279, 16)          0         \n",
      "_________________________________________________________________\n",
      "conv1d_6 (Conv1D)            (None, 1278, 16)          528       \n",
      "_________________________________________________________________\n",
      "max_pooling1d_6 (MaxPooling1 (None, 159, 16)           0         \n",
      "_________________________________________________________________\n",
      "conv1d_7 (Conv1D)            (None, 158, 8)            264       \n",
      "_________________________________________________________________\n",
      "max_pooling1d_7 (MaxPooling1 (None, 19, 8)             0         \n",
      "_________________________________________________________________\n",
      "flatten_1 (Flatten)          (None, 152)               0         \n",
      "_________________________________________________________________\n",
      "dense_2 (Dense)              (None, 50)                7650      \n",
      "_________________________________________________________________\n",
      "dense_3 (Dense)              (None, 1)                 51        \n",
      "=================================================================\n",
      "Total params: 8,789\n",
      "Trainable params: 8,789\n",
      "Non-trainable params: 0\n",
      "_________________________________________________________________\n",
      "None\n"
     ]
    }
   ],
   "source": [
    "es = EarlyStopping(monitor=\"val_auc\", patience=20, baseline=0.5, mode='max', restore_best_weights=True)\n",
    "\n",
    "model = Sequential()\n",
    "\n",
    "model.add(Conv1D(filters=8, kernel_size=2, input_shape=X_train[0].shape, activation='relu'))\n",
    "model.add(MaxPooling1D(pool_size=4))\n",
    "\n",
    "model.add(Conv1D(filters=16, kernel_size=2, activation='relu'))\n",
    "model.add(MaxPooling1D(pool_size=4))\n",
    "          \n",
    "model.add(Conv1D(filters=16, kernel_size=2, activation='relu'))\n",
    "model.add(MaxPooling1D(pool_size=8))\n",
    "\n",
    "model.add(Conv1D(filters=8, kernel_size=2, activation='relu'))\n",
    "model.add(MaxPooling1D(pool_size=8))\n",
    "\n",
    "model.add(Flatten())\n",
    "model.add(Dense(50, activation='relu'))\n",
    "\n",
    "model.add(Dense(1, activation='sigmoid'))\n",
    "model.compile(optimizer='adam', loss='binary_crossentropy', metrics=[AUC()])\n",
    "\n",
    "print(model.summary())"
   ]
  },
  {
   "cell_type": "markdown",
   "id": "individual-basement",
   "metadata": {},
   "source": [
    "Which we can now fit:"
   ]
  },
  {
   "cell_type": "code",
   "execution_count": 17,
   "id": "convinced-realtor",
   "metadata": {
    "scrolled": false
   },
   "outputs": [
    {
     "name": "stdout",
     "output_type": "stream",
     "text": [
      "Epoch 1/100\n",
      "4/4 [==============================] - 1s 154ms/step - loss: 0.6915 - auc_1: 0.5428 - val_loss: 0.6780 - val_auc_1: 0.5108\n",
      "Epoch 2/100\n",
      "4/4 [==============================] - 0s 72ms/step - loss: 0.6766 - auc_1: 0.5160 - val_loss: 0.6628 - val_auc_1: 0.6299\n",
      "Epoch 3/100\n",
      "4/4 [==============================] - 0s 71ms/step - loss: 0.6724 - auc_1: 0.5694 - val_loss: 0.6523 - val_auc_1: 0.7100\n",
      "Epoch 4/100\n",
      "4/4 [==============================] - 0s 72ms/step - loss: 0.6629 - auc_1: 0.5067 - val_loss: 0.6448 - val_auc_1: 0.6450\n",
      "Epoch 5/100\n",
      "4/4 [==============================] - 0s 71ms/step - loss: 0.6667 - auc_1: 0.5012 - val_loss: 0.6421 - val_auc_1: 0.6385\n",
      "Epoch 6/100\n",
      "4/4 [==============================] - 0s 71ms/step - loss: 0.6447 - auc_1: 0.4859 - val_loss: 0.6411 - val_auc_1: 0.6840\n",
      "Epoch 7/100\n",
      "4/4 [==============================] - 0s 71ms/step - loss: 0.6666 - auc_1: 0.4720 - val_loss: 0.6411 - val_auc_1: 0.7056\n",
      "Epoch 8/100\n",
      "4/4 [==============================] - 0s 71ms/step - loss: 0.6429 - auc_1: 0.5313 - val_loss: 0.6410 - val_auc_1: 0.6732\n",
      "Epoch 9/100\n",
      "4/4 [==============================] - 0s 71ms/step - loss: 0.6525 - auc_1: 0.5539 - val_loss: 0.6416 - val_auc_1: 0.7554\n",
      "Epoch 10/100\n",
      "4/4 [==============================] - 0s 77ms/step - loss: 0.6624 - auc_1: 0.5584 - val_loss: 0.6426 - val_auc_1: 0.7597\n",
      "Epoch 11/100\n",
      "4/4 [==============================] - 0s 74ms/step - loss: 0.6570 - auc_1: 0.5492 - val_loss: 0.6432 - val_auc_1: 0.7078\n",
      "Epoch 12/100\n",
      "4/4 [==============================] - 0s 71ms/step - loss: 0.6469 - auc_1: 0.5436 - val_loss: 0.6423 - val_auc_1: 0.6861\n",
      "Epoch 13/100\n",
      "4/4 [==============================] - 0s 74ms/step - loss: 0.6681 - auc_1: 0.5924 - val_loss: 0.6426 - val_auc_1: 0.7273\n",
      "Epoch 14/100\n",
      "4/4 [==============================] - 0s 73ms/step - loss: 0.6378 - auc_1: 0.5583 - val_loss: 0.6412 - val_auc_1: 0.7273\n",
      "Epoch 15/100\n",
      "4/4 [==============================] - 0s 72ms/step - loss: 0.6701 - auc_1: 0.5790 - val_loss: 0.6415 - val_auc_1: 0.6364\n",
      "Epoch 16/100\n",
      "4/4 [==============================] - 0s 71ms/step - loss: 0.6597 - auc_1: 0.6668 - val_loss: 0.6410 - val_auc_1: 0.7229\n",
      "Epoch 17/100\n",
      "4/4 [==============================] - 0s 76ms/step - loss: 0.6279 - auc_1: 0.6114 - val_loss: 0.6401 - val_auc_1: 0.7035\n",
      "Epoch 18/100\n",
      "4/4 [==============================] - 0s 77ms/step - loss: 0.6535 - auc_1: 0.6338 - val_loss: 0.6404 - val_auc_1: 0.7186\n",
      "Epoch 19/100\n",
      "4/4 [==============================] - 0s 117ms/step - loss: 0.6256 - auc_1: 0.6552 - val_loss: 0.6400 - val_auc_1: 0.6580\n",
      "Epoch 20/100\n",
      "4/4 [==============================] - 0s 72ms/step - loss: 0.6294 - auc_1: 0.6557 - val_loss: 0.6400 - val_auc_1: 0.6255\n",
      "Epoch 21/100\n",
      "4/4 [==============================] - 0s 72ms/step - loss: 0.6582 - auc_1: 0.6925 - val_loss: 0.6406 - val_auc_1: 0.6472\n",
      "Epoch 22/100\n",
      "4/4 [==============================] - 0s 72ms/step - loss: 0.6452 - auc_1: 0.6849 - val_loss: 0.6405 - val_auc_1: 0.6017\n",
      "Epoch 23/100\n",
      "4/4 [==============================] - 0s 72ms/step - loss: 0.6326 - auc_1: 0.7125 - val_loss: 0.6398 - val_auc_1: 0.5844\n",
      "Epoch 24/100\n",
      "4/4 [==============================] - 0s 72ms/step - loss: 0.6378 - auc_1: 0.7098 - val_loss: 0.6397 - val_auc_1: 0.5931\n",
      "Epoch 25/100\n",
      "4/4 [==============================] - 0s 72ms/step - loss: 0.6499 - auc_1: 0.6730 - val_loss: 0.6398 - val_auc_1: 0.5584\n",
      "Epoch 26/100\n",
      "4/4 [==============================] - 0s 72ms/step - loss: 0.6427 - auc_1: 0.6103 - val_loss: 0.6395 - val_auc_1: 0.5455\n",
      "Epoch 27/100\n",
      "4/4 [==============================] - 0s 73ms/step - loss: 0.6315 - auc_1: 0.6493 - val_loss: 0.6390 - val_auc_1: 0.5368\n",
      "Epoch 28/100\n",
      "4/4 [==============================] - 0s 72ms/step - loss: 0.6402 - auc_1: 0.7050 - val_loss: 0.6403 - val_auc_1: 0.5130\n",
      "Epoch 29/100\n",
      "4/4 [==============================] - 0s 72ms/step - loss: 0.6362 - auc_1: 0.7058 - val_loss: 0.6407 - val_auc_1: 0.5130\n",
      "Epoch 30/100\n",
      "4/4 [==============================] - 0s 72ms/step - loss: 0.6338 - auc_1: 0.6943 - val_loss: 0.6417 - val_auc_1: 0.5000\n",
      "Epoch 31/100\n",
      "4/4 [==============================] - 0s 75ms/step - loss: 0.6470 - auc_1: 0.7090 - val_loss: 0.6432 - val_auc_1: 0.4957\n",
      "Epoch 32/100\n",
      "4/4 [==============================] - 0s 75ms/step - loss: 0.5914 - auc_1: 0.7206 - val_loss: 0.6476 - val_auc_1: 0.4848\n",
      "Epoch 33/100\n",
      "4/4 [==============================] - 0s 76ms/step - loss: 0.6114 - auc_1: 0.7338 - val_loss: 0.6444 - val_auc_1: 0.5087\n",
      "Epoch 34/100\n",
      "4/4 [==============================] - 0s 72ms/step - loss: 0.6135 - auc_1: 0.7343 - val_loss: 0.6496 - val_auc_1: 0.4848\n",
      "Epoch 35/100\n",
      "4/4 [==============================] - 0s 73ms/step - loss: 0.5903 - auc_1: 0.6946 - val_loss: 0.6576 - val_auc_1: 0.4740\n",
      "Epoch 36/100\n",
      "4/4 [==============================] - 0s 73ms/step - loss: 0.6027 - auc_1: 0.6852 - val_loss: 0.6568 - val_auc_1: 0.4827\n",
      "Epoch 37/100\n",
      "4/4 [==============================] - 0s 74ms/step - loss: 0.5906 - auc_1: 0.7478 - val_loss: 0.6585 - val_auc_1: 0.4870\n",
      "Epoch 38/100\n",
      "4/4 [==============================] - 0s 76ms/step - loss: 0.5629 - auc_1: 0.7614 - val_loss: 0.6683 - val_auc_1: 0.4805\n",
      "Epoch 39/100\n",
      "4/4 [==============================] - 0s 76ms/step - loss: 0.5687 - auc_1: 0.6986 - val_loss: 0.6792 - val_auc_1: 0.4870\n",
      "Epoch 40/100\n",
      "4/4 [==============================] - 0s 75ms/step - loss: 0.5825 - auc_1: 0.7629 - val_loss: 0.6727 - val_auc_1: 0.4697\n",
      "Epoch 41/100\n",
      "4/4 [==============================] - 0s 72ms/step - loss: 0.5916 - auc_1: 0.7087 - val_loss: 0.6777 - val_auc_1: 0.4784\n",
      "Epoch 42/100\n",
      "4/4 [==============================] - 0s 73ms/step - loss: 0.5912 - auc_1: 0.7401 - val_loss: 0.6854 - val_auc_1: 0.4762\n",
      "Epoch 43/100\n",
      "4/4 [==============================] - 0s 72ms/step - loss: 0.5775 - auc_1: 0.7058 - val_loss: 0.6960 - val_auc_1: 0.4784\n",
      "Epoch 44/100\n",
      "4/4 [==============================] - 0s 72ms/step - loss: 0.5609 - auc_1: 0.7364 - val_loss: 0.6981 - val_auc_1: 0.4784\n",
      "Epoch 45/100\n",
      "4/4 [==============================] - 0s 72ms/step - loss: 0.5775 - auc_1: 0.7320 - val_loss: 0.7005 - val_auc_1: 0.4762\n",
      "Epoch 46/100\n",
      "4/4 [==============================] - 0s 73ms/step - loss: 0.5671 - auc_1: 0.7417 - val_loss: 0.7097 - val_auc_1: 0.4697\n",
      "Epoch 47/100\n",
      "4/4 [==============================] - 0s 72ms/step - loss: 0.5207 - auc_1: 0.7859 - val_loss: 0.7183 - val_auc_1: 0.4697\n",
      "Epoch 48/100\n",
      "4/4 [==============================] - 0s 72ms/step - loss: 0.5498 - auc_1: 0.7727 - val_loss: 0.7141 - val_auc_1: 0.4697\n",
      "Epoch 49/100\n",
      "4/4 [==============================] - 0s 72ms/step - loss: 0.5464 - auc_1: 0.7697 - val_loss: 0.7179 - val_auc_1: 0.4654\n",
      "Epoch 50/100\n",
      "4/4 [==============================] - 0s 73ms/step - loss: 0.5413 - auc_1: 0.7385 - val_loss: 0.7337 - val_auc_1: 0.4654\n",
      "Epoch 51/100\n",
      "4/4 [==============================] - 0s 73ms/step - loss: 0.5663 - auc_1: 0.7555 - val_loss: 0.7270 - val_auc_1: 0.4654\n",
      "Epoch 52/100\n",
      "4/4 [==============================] - 0s 72ms/step - loss: 0.5212 - auc_1: 0.7742 - val_loss: 0.7476 - val_auc_1: 0.4654\n",
      "Epoch 53/100\n",
      "4/4 [==============================] - 0s 73ms/step - loss: 0.5491 - auc_1: 0.7808 - val_loss: 0.7299 - val_auc_1: 0.4632\n",
      "Epoch 54/100\n",
      "4/4 [==============================] - 0s 73ms/step - loss: 0.5183 - auc_1: 0.7884 - val_loss: 0.7425 - val_auc_1: 0.4632\n",
      "Epoch 55/100\n",
      "4/4 [==============================] - 0s 73ms/step - loss: 0.5495 - auc_1: 0.7653 - val_loss: 0.7527 - val_auc_1: 0.4545\n",
      "Epoch 56/100\n",
      "4/4 [==============================] - 0s 76ms/step - loss: 0.5786 - auc_1: 0.7422 - val_loss: 0.7564 - val_auc_1: 0.4481\n",
      "Epoch 57/100\n",
      "4/4 [==============================] - 0s 75ms/step - loss: 0.5072 - auc_1: 0.8241 - val_loss: 0.7649 - val_auc_1: 0.4567\n",
      "Epoch 58/100\n",
      "4/4 [==============================] - 0s 76ms/step - loss: 0.5321 - auc_1: 0.7758 - val_loss: 0.7719 - val_auc_1: 0.4567\n",
      "Epoch 59/100\n",
      "4/4 [==============================] - 0s 73ms/step - loss: 0.5189 - auc_1: 0.7937 - val_loss: 0.7704 - val_auc_1: 0.4437\n",
      "Epoch 60/100\n",
      "4/4 [==============================] - 0s 72ms/step - loss: 0.4799 - auc_1: 0.8316 - val_loss: 0.7904 - val_auc_1: 0.4437\n",
      "Epoch 61/100\n",
      "4/4 [==============================] - 0s 76ms/step - loss: 0.5227 - auc_1: 0.8070 - val_loss: 0.7730 - val_auc_1: 0.4372\n"
     ]
    },
    {
     "name": "stdout",
     "output_type": "stream",
     "text": [
      "Epoch 62/100\n",
      "4/4 [==============================] - 0s 74ms/step - loss: 0.5497 - auc_1: 0.7613 - val_loss: 0.7843 - val_auc_1: 0.4502\n",
      "Epoch 63/100\n",
      "4/4 [==============================] - 0s 75ms/step - loss: 0.4870 - auc_1: 0.8381 - val_loss: 0.8144 - val_auc_1: 0.4502\n",
      "Epoch 64/100\n",
      "4/4 [==============================] - 0s 72ms/step - loss: 0.4614 - auc_1: 0.8546 - val_loss: 0.8000 - val_auc_1: 0.4524\n",
      "Epoch 65/100\n",
      "4/4 [==============================] - 0s 76ms/step - loss: 0.4969 - auc_1: 0.8170 - val_loss: 0.8012 - val_auc_1: 0.4481\n",
      "Epoch 66/100\n",
      "4/4 [==============================] - 0s 74ms/step - loss: 0.4990 - auc_1: 0.8227 - val_loss: 0.8057 - val_auc_1: 0.4416\n",
      "Epoch 67/100\n",
      "4/4 [==============================] - 0s 74ms/step - loss: 0.4778 - auc_1: 0.8354 - val_loss: 0.8408 - val_auc_1: 0.4459\n",
      "Epoch 68/100\n",
      "4/4 [==============================] - 0s 72ms/step - loss: 0.4999 - auc_1: 0.8204 - val_loss: 0.8252 - val_auc_1: 0.4437\n",
      "Epoch 69/100\n",
      "4/4 [==============================] - 0s 71ms/step - loss: 0.4800 - auc_1: 0.8383 - val_loss: 0.8285 - val_auc_1: 0.4459\n",
      "Epoch 70/100\n",
      "4/4 [==============================] - 0s 71ms/step - loss: 0.5229 - auc_1: 0.7877 - val_loss: 0.8538 - val_auc_1: 0.4481\n",
      "Epoch 71/100\n",
      "4/4 [==============================] - 0s 71ms/step - loss: 0.4784 - auc_1: 0.8396 - val_loss: 0.8615 - val_auc_1: 0.4416\n",
      "Epoch 72/100\n",
      "4/4 [==============================] - 0s 71ms/step - loss: 0.4687 - auc_1: 0.8537 - val_loss: 0.8481 - val_auc_1: 0.4481\n",
      "Epoch 73/100\n",
      "4/4 [==============================] - 0s 71ms/step - loss: 0.4558 - auc_1: 0.8593 - val_loss: 0.8748 - val_auc_1: 0.4545\n",
      "Epoch 74/100\n",
      "4/4 [==============================] - 0s 72ms/step - loss: 0.4338 - auc_1: 0.8793 - val_loss: 0.8713 - val_auc_1: 0.4437\n",
      "Epoch 75/100\n",
      "4/4 [==============================] - 0s 71ms/step - loss: 0.4222 - auc_1: 0.8897 - val_loss: 0.8904 - val_auc_1: 0.4416\n",
      "Epoch 76/100\n",
      "4/4 [==============================] - 0s 71ms/step - loss: 0.4170 - auc_1: 0.9032 - val_loss: 0.9153 - val_auc_1: 0.4372\n",
      "Epoch 77/100\n",
      "4/4 [==============================] - 0s 77ms/step - loss: 0.4264 - auc_1: 0.8846 - val_loss: 0.9161 - val_auc_1: 0.4394\n",
      "Epoch 78/100\n",
      "4/4 [==============================] - 0s 75ms/step - loss: 0.4012 - auc_1: 0.8738 - val_loss: 0.9313 - val_auc_1: 0.4437\n",
      "Epoch 79/100\n",
      "4/4 [==============================] - 0s 75ms/step - loss: 0.4211 - auc_1: 0.8894 - val_loss: 0.9390 - val_auc_1: 0.4329\n",
      "Epoch 80/100\n",
      "4/4 [==============================] - 0s 74ms/step - loss: 0.3844 - auc_1: 0.9122 - val_loss: 0.9669 - val_auc_1: 0.4329\n",
      "Epoch 81/100\n",
      "4/4 [==============================] - 0s 71ms/step - loss: 0.3740 - auc_1: 0.9134 - val_loss: 0.9620 - val_auc_1: 0.4329\n",
      "Epoch 82/100\n",
      "4/4 [==============================] - 0s 71ms/step - loss: 0.3870 - auc_1: 0.9226 - val_loss: 0.9773 - val_auc_1: 0.4307\n",
      "Epoch 83/100\n",
      "4/4 [==============================] - 0s 75ms/step - loss: 0.3532 - auc_1: 0.9318 - val_loss: 1.0248 - val_auc_1: 0.4242\n",
      "Epoch 84/100\n",
      "4/4 [==============================] - 0s 74ms/step - loss: 0.3905 - auc_1: 0.8977 - val_loss: 0.9943 - val_auc_1: 0.4177\n",
      "Epoch 85/100\n",
      "4/4 [==============================] - 0s 74ms/step - loss: 0.3841 - auc_1: 0.9076 - val_loss: 1.0406 - val_auc_1: 0.4221\n",
      "Epoch 86/100\n",
      "4/4 [==============================] - 0s 73ms/step - loss: 0.3390 - auc_1: 0.9495 - val_loss: 1.0515 - val_auc_1: 0.4134\n",
      "Epoch 87/100\n",
      "4/4 [==============================] - 0s 72ms/step - loss: 0.3333 - auc_1: 0.9561 - val_loss: 1.0591 - val_auc_1: 0.4177\n",
      "Epoch 88/100\n",
      "4/4 [==============================] - 0s 71ms/step - loss: 0.3484 - auc_1: 0.9293 - val_loss: 1.1088 - val_auc_1: 0.4048\n",
      "Epoch 89/100\n",
      "4/4 [==============================] - 0s 74ms/step - loss: 0.3209 - auc_1: 0.9506 - val_loss: 1.0799 - val_auc_1: 0.3896\n",
      "Epoch 90/100\n",
      "4/4 [==============================] - 0s 74ms/step - loss: 0.3135 - auc_1: 0.9637 - val_loss: 1.1386 - val_auc_1: 0.4004\n",
      "Epoch 91/100\n",
      "4/4 [==============================] - 0s 73ms/step - loss: 0.3124 - auc_1: 0.9647 - val_loss: 1.1497 - val_auc_1: 0.3918\n",
      "Epoch 92/100\n",
      "4/4 [==============================] - 0s 73ms/step - loss: 0.2884 - auc_1: 0.9744 - val_loss: 1.1748 - val_auc_1: 0.3874\n",
      "Epoch 93/100\n",
      "4/4 [==============================] - 0s 73ms/step - loss: 0.2523 - auc_1: 0.9808 - val_loss: 1.2301 - val_auc_1: 0.3961\n",
      "Epoch 94/100\n",
      "4/4 [==============================] - 0s 72ms/step - loss: 0.2418 - auc_1: 0.9891 - val_loss: 1.2217 - val_auc_1: 0.3810\n",
      "Epoch 95/100\n",
      "4/4 [==============================] - 0s 74ms/step - loss: 0.2763 - auc_1: 0.9830 - val_loss: 1.2531 - val_auc_1: 0.3810\n",
      "Epoch 96/100\n",
      "4/4 [==============================] - 0s 76ms/step - loss: 0.2607 - auc_1: 0.9914 - val_loss: 1.3481 - val_auc_1: 0.3788\n",
      "Epoch 97/100\n",
      "4/4 [==============================] - 0s 75ms/step - loss: 0.2353 - auc_1: 0.9922 - val_loss: 1.2921 - val_auc_1: 0.3701\n",
      "Epoch 98/100\n",
      "4/4 [==============================] - 0s 74ms/step - loss: 0.2103 - auc_1: 0.9968 - val_loss: 1.3646 - val_auc_1: 0.3723\n",
      "Epoch 99/100\n",
      "4/4 [==============================] - 0s 72ms/step - loss: 0.2151 - auc_1: 0.9964 - val_loss: 1.3869 - val_auc_1: 0.3723\n",
      "Epoch 100/100\n",
      "4/4 [==============================] - 0s 71ms/step - loss: 0.1857 - auc_1: 0.9963 - val_loss: 1.4160 - val_auc_1: 0.3766\n"
     ]
    }
   ],
   "source": [
    "# fit model\n",
    "history = model.fit(X_train, y_train, epochs=100, validation_split=0.2)#, callbacks=[es])#, class_weight=class_weight)"
   ]
  },
  {
   "cell_type": "markdown",
   "id": "partial-chamber",
   "metadata": {},
   "source": [
    "We can visualise the training & validation loss over time:"
   ]
  },
  {
   "cell_type": "code",
   "execution_count": 18,
   "id": "chronic-concord",
   "metadata": {},
   "outputs": [
    {
     "data": {
      "image/png": "[encoded data removed]",
      "text/plain": [
       "<Figure size 432x288 with 1 Axes>"
      ]
     },
     "metadata": {
      "needs_background": "light"
     },
     "output_type": "display_data"
    }
   ],
   "source": [
    "# summarize history for loss\n",
    "plt.plot(history.history['loss'])\n",
    "plt.plot(history.history['val_loss'])\n",
    "plt.title('model loss')\n",
    "plt.ylabel('loss')\n",
    "plt.xlabel('epoch')\n",
    "plt.legend(['train', 'val'], loc='upper left')\n",
    "plt.show()"
   ]
  },
  {
   "cell_type": "markdown",
   "id": "amended-hollywood",
   "metadata": {},
   "source": [
    "As above for accuracy:"
   ]
  },
  {
   "cell_type": "code",
   "execution_count": 36,
   "id": "forty-pilot",
   "metadata": {},
   "outputs": [
    {
     "data": {
      "image/png": "[encoded data removed]",
      "text/plain": [
       "<Figure size 432x288 with 1 Axes>"
      ]
     },
     "metadata": {
      "needs_background": "light"
     },
     "output_type": "display_data"
    }
   ],
   "source": [
    "# summarize history for accuracy\n",
    "plt.plot(history.history['auc_8'])\n",
    "plt.plot(history.history['val_auc_8'])\n",
    "plt.title('model accuracy')\n",
    "plt.ylabel('accuracy')\n",
    "plt.xlabel('epoch')\n",
    "plt.legend(['train', 'val'], loc='upper left')\n",
    "plt.show()"
   ]
  }
 ],
 "metadata": {
  "kernelspec": {
   "display_name": "Python 3",
   "language": "python",
   "name": "python3"
  },
  "language_info": {
   "codemirror_mode": {
    "name": "ipython",
    "version": 3
   },
   "file_extension": ".py",
   "mimetype": "text/x-python",
   "name": "python",
   "nbconvert_exporter": "python",
   "pygments_lexer": "ipython3",
   "version": "3.8.6"
  }
 },
 "nbformat": 4,
 "nbformat_minor": 5
}
