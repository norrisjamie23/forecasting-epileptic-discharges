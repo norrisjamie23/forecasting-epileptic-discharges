{
 "cells": [
  {
   "cell_type": "markdown",
   "id": "residential-willow",
   "metadata": {},
   "source": [
    "# IED Detection\n",
    "\n",
    "This notebook detects IEDs to produce labels for our forecasting algorithms. This includes:\n",
    "* Loading an EDF file containing the recordings and keeping a defined subset of all channels.\n",
    "* Running an IED detection algorithm.\n",
    "* (Early implementation: Grouping IEDs into sequences across channels).\n",
    "* Splitting the data up into different 'windows' which are then labelled with the number of IEDs that occur in the next window.\n",
    "* Saving these windows and their labels (X.npy/y.npy)."
   ]
  },
  {
   "cell_type": "code",
   "execution_count": 1,
   "id": "apart-nebraska",
   "metadata": {},
   "outputs": [],
   "source": [
    "import mne\n",
    "import scipy\n",
    "import scipy.io\n",
    "from scipy import signal\n",
    "import numpy as np\n",
    "import matplotlib.pyplot as plt\n",
    "import matplotlib \n",
    "import seaborn as sns\n",
    "import math\n",
    "\n",
    "matplotlib.rcParams['figure.figsize'] = (20, 10)\n",
    "mne.set_log_level('WARNING')"
   ]
  },
  {
   "cell_type": "markdown",
   "id": "funded-capture",
   "metadata": {},
   "source": [
    "Open the file containing the recordings."
   ]
  },
  {
   "cell_type": "code",
   "execution_count": 2,
   "id": "sunset-logic",
   "metadata": {},
   "outputs": [
    {
     "name": "stdout",
     "output_type": "stream",
     "text": [
      "<Info | 7 non-empty values\n",
      " bads: []\n",
      " ch_names: EEG J12, EEG J11, EEG J10, EEG J9, EEG J8, EEG J7, EEG J6, EEG ...\n",
      " chs: 185 EEG\n",
      " custom_ref_applied: False\n",
      " highpass: 0.0 Hz\n",
      " lowpass: 1024.0 Hz\n",
      " meas_date: 2020-12-11 14:30:00 UTC\n",
      " nchan: 185\n",
      " projs: []\n",
      " sfreq: 2048.0 Hz\n",
      ">\n"
     ]
    }
   ],
   "source": [
    "raw_fname = 'Data/TrialPatientArRa/X~ X_2fc7b4bb-d0f1-45b1-b60d-0ec24a942259.EDF'\n",
    "# raw_fname = 'Data/TrialPatientBeSa/X~ X_74addeec-ea9c-4b25-8280-cab2db067651.EDF'\n",
    "\n",
    "# raw = mne.io.read_raw_edf(raw_fname, preload='Data/TrialPatientArRa/temp')\n",
    "raw = mne.io.read_raw_edf(raw_fname, preload=True)\n",
    "\n",
    "print(raw.info)"
   ]
  },
  {
   "cell_type": "code",
   "execution_count": 3,
   "id": "controlling-wings",
   "metadata": {},
   "outputs": [],
   "source": [
    "# Load file containing suitable channels and convert to list\n",
    "mat = scipy.io.loadmat('Data/TrialPatientArRa/channels.mat')\n",
    "valid_channels = [channel[0] for channel in mat['channels'][:, 0]]\n",
    "# valid_channels = [channel for channel in valid_channels if 'EEG E' in channel]"
   ]
  },
  {
   "cell_type": "code",
   "execution_count": 7,
   "id": "miniature-characterization",
   "metadata": {},
   "outputs": [],
   "source": [
    "# first_10_seconds = raw.copy().crop(0, 10).load_data()\n",
    "# first_10_seconds.set_eeg_reference(ref_channels=['EEG L6'])\n",
    "# first_10_seconds.plot(duration=10, n_channels=12, scalings=dict(eeg=5e-4))"
   ]
  },
  {
   "cell_type": "code",
   "execution_count": 4,
   "id": "desirable-report",
   "metadata": {},
   "outputs": [],
   "source": [
    "%run DetectSpike_SEEG.py"
   ]
  },
  {
   "cell_type": "markdown",
   "id": "b00edc79",
   "metadata": {},
   "source": [
    "Crop recordings hour by hour, detecting IEDs in each."
   ]
  },
  {
   "cell_type": "code",
   "execution_count": null,
   "id": "spread-canyon",
   "metadata": {},
   "outputs": [],
   "source": [
    "# In minutes\n",
    "BlockSize=60\n",
    "\n",
    "# Time points\n",
    "M = raw.n_times\n",
    "\n",
    "freq = raw.info['sfreq']\n",
    "ref_channels = ['EEG L6']\n",
    "\n",
    "SpikeIds = []\n",
    "ChanIds = []\n",
    "\n",
    "# Duration of recording in seconds\n",
    "NumSecs = M / freq\n",
    "Blocks = math.floor(NumSecs / (BlockSize * 60))\n",
    "\n",
    "for CurrentBlock in range(Blocks):\n",
    "    Data = raw.copy().crop(CurrentBlock * BlockSize * 60, \\\n",
    "                           CurrentBlock * BlockSize * 60 + 60 * BlockSize) \\\n",
    "    .load_data() \\\n",
    "    .set_eeg_reference(ref_channels=ref_channels) \\\n",
    "    .get_data(picks=valid_channels)\n",
    "        \n",
    "    SpikeIndex, ChanId, _ = DetectSpikes(Data, freq, DetThresholds=[7, 7, 300, 10, 10])\n",
    "        \n",
    "    # Add to list across all blocks, corrected for times\n",
    "    SpikeIds.append(SpikeIndex + CurrentBlock * BlockSize * 60 * freq)\n",
    "    ChanIds.append(ChanId)"
   ]
  },
  {
   "cell_type": "code",
   "execution_count": 131,
   "id": "excited-paste",
   "metadata": {},
   "outputs": [],
   "source": [
    "# Convert to numpy arrays\n",
    "SpikeIndex = np.concatenate(SpikeIds, axis=0)\n",
    "ChanId = np.concatenate(ChanIds, axis=0)"
   ]
  },
  {
   "cell_type": "markdown",
   "id": "4c41ac33",
   "metadata": {},
   "source": [
    "Alternatively just do this at once."
   ]
  },
  {
   "cell_type": "code",
   "execution_count": 6,
   "id": "41f09fac",
   "metadata": {},
   "outputs": [],
   "source": [
    "freq = raw.info['sfreq']\n",
    "ref_channels = ['EEG L6']\n",
    "\n",
    "Data = raw.set_eeg_reference(ref_channels=ref_channels).get_data(picks=valid_channels)\n",
    "\n",
    "SpikeIds, ChanIds, _ = DetectSpikes(Data, freq, DetThresholds=[7, 7, 300, 10, 10])"
   ]
  },
  {
   "cell_type": "markdown",
   "id": "a974ad48",
   "metadata": {},
   "source": [
    "IED spikes -> IED sequences. If an IED is within 50ms of the start of the current sequence, or 15ms from the last added spike in the sequence, it's added to the sequence."
   ]
  },
  {
   "cell_type": "code",
   "execution_count": 95,
   "id": "d583810c",
   "metadata": {},
   "outputs": [],
   "source": [
    "spikes, chans = SpikeIds.copy(), ChanIds.copy()\n",
    "\n",
    "spikes_argsort = np.argsort(spikes)\n",
    "spikes = list(spikes[spikes_argsort])\n",
    "chans = list(chans[spikes_argsort])\n",
    "\n",
    "# 50ms and 15ms in indices (using known frequency)\n",
    "fifty_ms = int(round(freq * 0.05))\n",
    "fifteen_ms = int(round(freq * 0.015))\n",
    "\n",
    "# Lists for all sequences, one for spike indices and one for channels\n",
    "all_seq_spikes = []\n",
    "all_seq_chans = []\n",
    "\n",
    "# While there are unprocessed spikes \n",
    "while len(spikes) > 0:\n",
    "    \n",
    "    # Start a list with the leading spike\n",
    "    seq_spikes = [spikes.pop(0)]\n",
    "    seq_chans = [chans.pop(0)]\n",
    "    \n",
    "    curr_spike = seq_spikes[0]\n",
    "    \n",
    "    # For remaining spikes\n",
    "    for spike in spikes:\n",
    "        # If spike is within 15ms of last spike in sequence or 50ms of first\n",
    "        if spike - seq_spikes[0] <= fifty_ms or spike - curr_spike <= fifteen_ms:\n",
    "            # Then add to sequence\n",
    "            curr_spike = spike\n",
    "            \n",
    "            seq_spikes.append(spikes.pop(0))\n",
    "            seq_chans.append(chans.pop(0))\n",
    "            \n",
    "        # When no more eligible spikes, move to next sequence\n",
    "        else:\n",
    "            break\n",
    "            \n",
    "    # Add processed sequence to list of sequences\n",
    "    all_seq_spikes.append(seq_spikes)\n",
    "    all_seq_chans.append(seq_chans)"
   ]
  },
  {
   "cell_type": "markdown",
   "id": "4034914e",
   "metadata": {},
   "source": [
    "Just for fun, work out the most common routes from A -> B using two separate methods. One only counts B if it's the terminus of the sequence, one counts it as long as B is in the sequence at all."
   ]
  },
  {
   "cell_type": "code",
   "execution_count": 183,
   "id": "7e32992d",
   "metadata": {},
   "outputs": [
    {
     "name": "stdout",
     "output_type": "stream",
     "text": [
      "168 EEG J12 -> EEG J11\n",
      "212 EEG J11 -> EEG J12\n",
      "201 EEG J11 -> EEG J10\n",
      "155 EEG J10 -> EEG J11\n",
      "139 EEG J10 -> EEG J9\n",
      "173 EEG J7 -> EEG J6\n",
      "104 EEG J6 -> EEG J7\n",
      "128 EEG J5 -> EEG J6\n",
      "121 EEG J4 -> EEG J5\n",
      "310 EEG J3 -> EEG J4\n",
      "451 EEG J2 -> EEG J3\n",
      "810 EEG J1 -> EEG J2\n",
      "104 EEG J1 -> EEG N3\n",
      "134 EEG I5 -> EEG I4\n",
      "490 EEG I4 -> EEG I5\n",
      "213 EEG I4 -> EEG I3\n",
      "575 EEG I3 -> EEG I4\n",
      "344 EEG I3 -> EEG I2\n",
      "106 EEG I2 -> EEG I4\n",
      "502 EEG I2 -> EEG I3\n",
      "122 EEG N9 -> EEG N10\n",
      "173 EEG N9 -> EEG N8\n",
      "212 EEG N8 -> EEG N9\n",
      "432 EEG N3 -> EEG N2\n",
      "205 EEG N2 -> EEG N3\n",
      "106 EEG E3 -> EEG O15\n",
      "111 EEG E2 -> EEG E3\n"
     ]
    }
   ],
   "source": [
    "# If a sequence is A -> B -> C, count A -> B as one connection and B -> C as another.\n",
    "starts_list = [chan[:-1] for chan in all_seq_chans if len(chan) >= 2]\n",
    "ends_list = [chan[1:] for chan in all_seq_chans if len(chan) >= 2]\n",
    "\n",
    "pairs = []\n",
    "\n",
    "starts\n",
    "for starts, ends in zip(starts_list, ends_list):\n",
    "    for start, end in zip(starts, ends):\n",
    "        pairs.append([int(start), int(end)])\n",
    "\n",
    "unique, counts = np.unique(pairs, return_counts=True, axis=0)\n",
    "\n",
    "for u, c in zip(unique, counts):\n",
    "    if c > 100:\n",
    "        print(c, valid_channels[u[0]], '->', valid_channels[u[1]])"
   ]
  },
  {
   "cell_type": "code",
   "execution_count": 185,
   "id": "a8e51c07",
   "metadata": {},
   "outputs": [
    {
     "name": "stdout",
     "output_type": "stream",
     "text": [
      "66 EEG J11 -> EEG J12\n",
      "59 EEG J5 -> EEG J6\n",
      "65 EEG J1 -> EEG J11\n",
      "71 EEG J1 -> EEG J4\n",
      "95 EEG J1 -> EEG J3\n",
      "286 EEG J1 -> EEG J2\n",
      "63 EEG J1 -> EEG N2\n",
      "246 EEG I4 -> EEG I5\n",
      "51 EEG I4 -> EEG I3\n",
      "67 EEG I3 -> EEG I5\n",
      "185 EEG I3 -> EEG I4\n",
      "170 EEG I3 -> EEG I2\n",
      "63 EEG I2 -> EEG I5\n",
      "115 EEG I2 -> EEG I4\n",
      "142 EEG I2 -> EEG I3\n",
      "77 EEG N9 -> EEG N10\n",
      "74 EEG N9 -> EEG N8\n",
      "106 EEG N8 -> EEG N9\n",
      "67 EEG N3 -> EEG I4\n",
      "121 EEG N3 -> EEG I3\n",
      "89 EEG N3 -> EEG I2\n",
      "70 EEG N3 -> EEG N2\n",
      "57 EEG O15 -> EEG O15\n",
      "57 EEG O15 -> EEG E3\n",
      "73 EEG O15 -> EEG E2\n",
      "79 EEG E3 -> EEG O15\n",
      "68 EEG E3 -> EEG E3\n",
      "73 EEG E3 -> EEG E2\n",
      "56 EEG E2 -> EEG O15\n",
      "85 EEG E2 -> EEG E3\n"
     ]
    }
   ],
   "source": [
    "# If a sequence is A -> B -> C, count A -> C as one connection only.\n",
    "start_list = [chan[0] for chan in all_seq_chans if len(chan) >= 2]\n",
    "end_list = [chan[-1] for chan in all_seq_chans if len(chan) >= 2]\n",
    "\n",
    "pairs = []\n",
    "\n",
    "starts\n",
    "for start, end in zip(start_list, end_list):\n",
    "    pairs.append([int(start), int(end)])\n",
    "\n",
    "unique, counts = np.unique(pairs, return_counts=True, axis=0)\n",
    "\n",
    "for u, c in zip(unique, counts):\n",
    "    if c > 50:\n",
    "        print(c, valid_channels[u[0]], '->', valid_channels[u[1]])"
   ]
  },
  {
   "cell_type": "markdown",
   "id": "aea25918",
   "metadata": {},
   "source": [
    "Histogram of when sequences occur."
   ]
  },
  {
   "cell_type": "code",
   "execution_count": 141,
   "id": "e2cdcae0",
   "metadata": {},
   "outputs": [
    {
     "data": {
      "text/plain": [
       "<seaborn.axisgrid.FacetGrid at 0x7ff5cb96b360>"
      ]
     },
     "execution_count": 141,
     "metadata": {},
     "output_type": "execute_result"
    },
    {
     "name": "stderr",
     "output_type": "stream",
     "text": [
      "/Users/jamienorris/miniconda3/envs/diss/lib_pypy/_functools.py:80: MatplotlibDeprecationWarning: savefig() got unexpected keyword argument \"orientation\" which is no longer supported as of 3.3 and will become an error two minor releases later\n",
      "  return self._func(*(self._args + fargs), **fkeywords)\n"
     ]
    },
    {
     "data": {
      "image/png": "[encoded data removed]",
      "text/plain": [
       "<Figure size 1440x720 with 1 Axes>"
      ]
     },
     "metadata": {
      "needs_background": "light"
     },
     "output_type": "display_data"
    }
   ],
   "source": [
    "# all_seq_spikes, all_seq_chans\n",
    "# If 5 or more spikes are in the sequence.\n",
    "sequence_starts = [spike[0] for spike in all_seq_spikes if len(spike) >= 5]\n",
    "\n",
    "bins = np.arange(0, 3600, 30)\n",
    "# dig = np.digitize(SpikeIds[ChanIds == 3] / 2048, bins)\n",
    "dig = np.digitize(np.array(sequence_starts) / 2048, bins)\n",
    "# sns.displot(dig, kind='kde')\n",
    "sns.displot(dig, bins=len(bins), height=10, aspect=2)"
   ]
  },
  {
   "cell_type": "markdown",
   "id": "social-level",
   "metadata": {},
   "source": [
    "All IED spikes."
   ]
  },
  {
   "cell_type": "code",
   "execution_count": 139,
   "id": "organic-equivalent",
   "metadata": {},
   "outputs": [
    {
     "data": {
      "text/plain": [
       "<seaborn.axisgrid.FacetGrid at 0x7ff5c9426528>"
      ]
     },
     "execution_count": 139,
     "metadata": {},
     "output_type": "execute_result"
    },
    {
     "name": "stderr",
     "output_type": "stream",
     "text": [
      "/Users/jamienorris/miniconda3/envs/diss/lib_pypy/_functools.py:80: MatplotlibDeprecationWarning: savefig() got unexpected keyword argument \"orientation\" which is no longer supported as of 3.3 and will become an error two minor releases later\n",
      "  return self._func(*(self._args + fargs), **fkeywords)\n"
     ]
    },
    {
     "data": {
      "image/png": "[encoded data removed]",
      "text/plain": [
       "<Figure size 1440x720 with 1 Axes>"
      ]
     },
     "metadata": {
      "needs_background": "light"
     },
     "output_type": "display_data"
    }
   ],
   "source": [
    "bins = np.arange(0, 3600, 30)\n",
    "# dig = np.digitize(SpikeIds[ChanIds == 3] / 2048, bins)\n",
    "dig = np.digitize(SpikeIds / 2048, bins)\n",
    "# sns.displot(dig, kind='kde')\n",
    "sns.displot(dig, bins=len(bins), height=10, aspect=2)"
   ]
  },
  {
   "cell_type": "markdown",
   "id": "clean-annex",
   "metadata": {},
   "source": [
    "Plot some data and detected IEDs."
   ]
  },
  {
   "cell_type": "code",
   "execution_count": 106,
   "id": "arctic-trouble",
   "metadata": {},
   "outputs": [
    {
     "name": "stderr",
     "output_type": "stream",
     "text": [
      "/Users/jamienorris/miniconda3/envs/diss/lib_pypy/_functools.py:80: MatplotlibDeprecationWarning: savefig() got unexpected keyword argument \"orientation\" which is no longer supported as of 3.3 and will become an error two minor releases later\n",
      "  return self._func(*(self._args + fargs), **fkeywords)\n"
     ]
    },
    {
     "data": {
      "image/png": "[encoded data removed]",
      "text/plain": [
       "<Figure size 1440x720 with 1 Axes>"
      ]
     },
     "metadata": {
      "needs_background": "light"
     },
     "output_type": "display_data"
    }
   ],
   "source": [
    "# How many seconds from the start of the recording to consider\n",
    "seconds = 5\n",
    "\n",
    "# Index of channel to consider\n",
    "chan = 1\n",
    "\n",
    "t = np.linspace(0.0, seconds, seconds*2048)\n",
    "\n",
    "# Plot recording\n",
    "plt.subplot(212)\n",
    "plt.plot(t, Data[chan, :seconds*2048], color = 'r')\n",
    "\n",
    "spike_indices = np.logical_and(ChanIds == chan, SpikeIds < seconds*2048)\n",
    "for spike in SpikeIds[spike_indices]:\n",
    "    plt.axvline((spike)/2048)"
   ]
  },
  {
   "cell_type": "markdown",
   "id": "british-organ",
   "metadata": {},
   "source": [
    "Plot distribution of inter-IED intervals."
   ]
  },
  {
   "cell_type": "code",
   "execution_count": 115,
   "id": "afraid-essay",
   "metadata": {},
   "outputs": [
    {
     "data": {
      "text/plain": [
       "Text(0.5, 6.79999999999999, 'Time (s)')"
      ]
     },
     "execution_count": 115,
     "metadata": {},
     "output_type": "execute_result"
    },
    {
     "name": "stderr",
     "output_type": "stream",
     "text": [
      "/Users/jamienorris/miniconda3/envs/diss/lib_pypy/_functools.py:80: MatplotlibDeprecationWarning: savefig() got unexpected keyword argument \"orientation\" which is no longer supported as of 3.3 and will become an error two minor releases later\n",
      "  return self._func(*(self._args + fargs), **fkeywords)\n"
     ]
    },
    {
     "data": {
      "image/png": "[encoded data removed]",
      "text/plain": [
       "<Figure size 720x360 with 1 Axes>"
      ]
     },
     "metadata": {
      "needs_background": "light"
     },
     "output_type": "display_data"
    }
   ],
   "source": [
    "# Difference in time between IEDs\n",
    "diffs = np.zeros((1))\n",
    "for channel in np.unique(ChanIds):\n",
    "    diffs = np.append(diffs, np.diff(SpikeIds[ChanIds == channel]))\n",
    "\n",
    "diffs = diffs[1:]\n",
    "\n",
    "# Only keep intervals < 30s\n",
    "filtered_diffs = diffs[diffs / 2048 < 30]\n",
    "\n",
    "# Plot using histogram\n",
    "g = sns.displot(filtered_diffs/2048, bins=30)\n",
    "\n",
    "# Alternatively use kde plot\n",
    "# g = sns.displot(filtered_diffs/2048, kind='kde')\n",
    "\n",
    "g.fig.set_size_inches(10,5)\n",
    "g.set(xlim=(0, 30))\n",
    "g.fig.suptitle('Distribution of inter-IED intervals')\n",
    "plt.xlabel('Time (s)')"
   ]
  },
  {
   "cell_type": "markdown",
   "id": "amber-stand",
   "metadata": {},
   "source": [
    "Create our dataset from the labels."
   ]
  },
  {
   "cell_type": "code",
   "execution_count": null,
   "id": "welcome-chocolate",
   "metadata": {},
   "outputs": [],
   "source": [
    "# In Hz\n",
    "freq = 2048\n",
    "\n",
    "# How long (in seconds) our windows are\n",
    "window_seconds = 10\n",
    "\n",
    "X = []\n",
    "y = []\n",
    "\n",
    "for channel, to_split in enumerate(-Data):\n",
    "    \n",
    "    # number of windows\n",
    "    windows = math.floor(to_split.shape[0] / (freq*window_seconds))\n",
    "\n",
    "    # crop data and reshape to windowed dimension\n",
    "    new_data = to_split[:freq*window_seconds*windows].reshape((windows, freq*window_seconds))\n",
    "\n",
    "    # get rid of last X window \n",
    "    new_data = new_data[:-1]\n",
    "\n",
    "    labels = np.zeros(windows)\n",
    "\n",
    "    for spike in SpikeIndex[ChanId == channel]:\n",
    "        labels[int(spike // (freq*window_seconds))] += 1\n",
    "\n",
    "    # get rid of first label\n",
    "    labels = labels[1:]\n",
    "    \n",
    "    # Multiplying by 1e5 and converting to float16 to save space\n",
    "#     X.append((1e5 * new_data).astype(np.float16))\n",
    "    X.append(new_data.astype(np.float16))\n",
    "    y.append(labels)\n",
    "    \n",
    "X = np.concatenate(X, axis=0)\n",
    "y = np.concatenate(y, axis=0)"
   ]
  },
  {
   "cell_type": "markdown",
   "id": "informal-numbers",
   "metadata": {},
   "source": [
    "Save as X.npy and y.npy"
   ]
  },
  {
   "cell_type": "code",
   "execution_count": 12,
   "id": "israeli-haven",
   "metadata": {},
   "outputs": [],
   "source": [
    "with open('X.npy', 'wb') as f:\n",
    "    np.save(f, X)\n",
    "    \n",
    "with open('y.npy', 'wb') as f:\n",
    "    np.save(f, y)"
   ]
  }
 ],
 "metadata": {
  "kernelspec": {
   "display_name": "Python 3",
   "language": "python",
   "name": "python3"
  },
  "language_info": {
   "codemirror_mode": {
    "name": "ipython",
    "version": 3
   },
   "file_extension": ".py",
   "mimetype": "text/x-python",
   "name": "python",
   "nbconvert_exporter": "python",
   "pygments_lexer": "ipython3",
   "version": "3.7.10"
  }
 },
 "nbformat": 4,
 "nbformat_minor": 5
}
